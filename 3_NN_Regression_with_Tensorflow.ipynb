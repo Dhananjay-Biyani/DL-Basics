{
  "nbformat": 4,
  "nbformat_minor": 0,
  "metadata": {
    "colab": {
      "provenance": [],
      "gpuType": "T4"
    },
    "kernelspec": {
      "name": "python3",
      "display_name": "Python 3"
    },
    "language_info": {
      "name": "python"
    },
    "accelerator": "GPU"
  },
  "cells": [
    {
      "cell_type": "code",
      "execution_count": 1,
      "metadata": {
        "id": "RqdBr1LupBhd"
      },
      "outputs": [],
      "source": [
        "import tensorflow as tf\n",
        "import numpy as np\n",
        "import matplotlib.pyplot as plt\n"
      ]
    },
    {
      "cell_type": "markdown",
      "source": [
        "### CREATING DATA"
      ],
      "metadata": {
        "id": "VyXc0E9ppg29"
      }
    },
    {
      "cell_type": "code",
      "source": [
        "# creating features\n",
        "X = np.arange(-50.0,50.0,2.0)\n",
        "\n",
        "# creating labels\n",
        "Y = X+10"
      ],
      "metadata": {
        "id": "7xyoazYtpfdz"
      },
      "execution_count": 2,
      "outputs": []
    },
    {
      "cell_type": "code",
      "source": [
        "plt.scatter(X,Y)"
      ],
      "metadata": {
        "colab": {
          "base_uri": "https://localhost:8080/",
          "height": 448
        },
        "id": "QaDvxogyrTT5",
        "outputId": "df9d3003-0a2c-45dc-a793-e5e0b86bd6cf"
      },
      "execution_count": 3,
      "outputs": [
        {
          "output_type": "execute_result",
          "data": {
            "text/plain": [
              "<matplotlib.collections.PathCollection at 0x7b394d2ed660>"
            ]
          },
          "metadata": {},
          "execution_count": 3
        },
        {
          "output_type": "display_data",
          "data": {
            "text/plain": [
              "<Figure size 640x480 with 1 Axes>"
            ],
            "image/png": "[encoded data removed]"
          },
          "metadata": {}
        }
      ]
    },
    {
      "cell_type": "code",
      "source": [
        "# relation between X and Y\n",
        "Y == X+10\n",
        "\n",
        "#  so we need our model to learn this relation"
      ],
      "metadata": {
        "colab": {
          "base_uri": "https://localhost:8080/"
        },
        "id": "lam4B96KrWPp",
        "outputId": "f5384f73-a85c-4ffd-ebf7-517c7806ffcf"
      },
      "execution_count": 4,
      "outputs": [
        {
          "output_type": "execute_result",
          "data": {
            "text/plain": [
              "array([ True,  True,  True,  True,  True,  True,  True,  True,  True,\n",
              "        True,  True,  True,  True,  True,  True,  True,  True,  True,\n",
              "        True,  True,  True,  True,  True,  True,  True,  True,  True,\n",
              "        True,  True,  True,  True,  True,  True,  True,  True,  True,\n",
              "        True,  True,  True,  True,  True,  True,  True,  True,  True,\n",
              "        True,  True,  True,  True,  True])"
            ]
          },
          "metadata": {},
          "execution_count": 4
        }
      ]
    },
    {
      "cell_type": "markdown",
      "source": [
        "### INPUT AND OUTPUT SHAPE"
      ],
      "metadata": {
        "id": "mQqgxml8rxYV"
      }
    },
    {
      "cell_type": "code",
      "source": [
        "# demo tensor to check input and output shape\n",
        "house_info = tf.constant(['bedroom' ,'bathroom' ,'garage'])\n",
        "house_price = tf.constant([939700])\n",
        "house_info , house_price"
      ],
      "metadata": {
        "colab": {
          "base_uri": "https://localhost:8080/"
        },
        "id": "QLe_jqE2riOi",
        "outputId": "9186b977-a490-4af2-e3ce-0ada2b2596dc"
      },
      "execution_count": 5,
      "outputs": [
        {
          "output_type": "execute_result",
          "data": {
            "text/plain": [
              "(<tf.Tensor: shape=(3,), dtype=string, numpy=array([b'bedroom', b'bathroom', b'garage'], dtype=object)>,\n",
              " <tf.Tensor: shape=(1,), dtype=int32, numpy=array([939700], dtype=int32)>)"
            ]
          },
          "metadata": {},
          "execution_count": 5
        }
      ]
    },
    {
      "cell_type": "code",
      "source": [
        "X.shape , Y.shape"
      ],
      "metadata": {
        "colab": {
          "base_uri": "https://localhost:8080/"
        },
        "id": "CfUJ7QwhsOFb",
        "outputId": "aecf58ec-c8a0-4d17-8453-57fad07187fd"
      },
      "execution_count": 6,
      "outputs": [
        {
          "output_type": "execute_result",
          "data": {
            "text/plain": [
              "((50,), (50,))"
            ]
          },
          "metadata": {},
          "execution_count": 6
        }
      ]
    },
    {
      "cell_type": "code",
      "source": [
        "print(X[0] , Y[0])\n",
        "print(X[0].shape , Y[0].shape)\n",
        "\n",
        "# here we get shape empy when checking for single value becuase we have created a scaler i.e having 1 dimension\n"
      ],
      "metadata": {
        "colab": {
          "base_uri": "https://localhost:8080/"
        },
        "id": "TC9r3tTlsYcS",
        "outputId": "d780174a-b0d8-4cae-a1c2-febca6670271"
      },
      "execution_count": 7,
      "outputs": [
        {
          "output_type": "stream",
          "name": "stdout",
          "text": [
            "-50.0 -40.0\n",
            "() ()\n"
          ]
        }
      ]
    },
    {
      "cell_type": "code",
      "source": [
        "# converting numpy arrays X and Y inot tensors\n",
        "X = tf.constant(X)\n",
        "Y = tf.constant(Y)\n",
        "X ,Y"
      ],
      "metadata": {
        "colab": {
          "base_uri": "https://localhost:8080/"
        },
        "id": "Gx9lGiyRtr6G",
        "outputId": "fe7a3c60-00dd-4c68-e9ce-2367ff04f02d"
      },
      "execution_count": 8,
      "outputs": [
        {
          "output_type": "execute_result",
          "data": {
            "text/plain": [
              "(<tf.Tensor: shape=(50,), dtype=float64, numpy=\n",
              " array([-50., -48., -46., -44., -42., -40., -38., -36., -34., -32., -30.,\n",
              "        -28., -26., -24., -22., -20., -18., -16., -14., -12., -10.,  -8.,\n",
              "         -6.,  -4.,  -2.,   0.,   2.,   4.,   6.,   8.,  10.,  12.,  14.,\n",
              "         16.,  18.,  20.,  22.,  24.,  26.,  28.,  30.,  32.,  34.,  36.,\n",
              "         38.,  40.,  42.,  44.,  46.,  48.])>,\n",
              " <tf.Tensor: shape=(50,), dtype=float64, numpy=\n",
              " array([-40., -38., -36., -34., -32., -30., -28., -26., -24., -22., -20.,\n",
              "        -18., -16., -14., -12., -10.,  -8.,  -6.,  -4.,  -2.,   0.,   2.,\n",
              "          4.,   6.,   8.,  10.,  12.,  14.,  16.,  18.,  20.,  22.,  24.,\n",
              "         26.,  28.,  30.,  32.,  34.,  36.,  38.,  40.,  42.,  44.,  46.,\n",
              "         48.,  50.,  52.,  54.,  56.,  58.])>)"
            ]
          },
          "metadata": {},
          "execution_count": 8
        }
      ]
    },
    {
      "cell_type": "code",
      "source": [
        "input_shape  = X[0].shape\n",
        "output_shape = Y[0].shape\n",
        "input_shape , output_shape"
      ],
      "metadata": {
        "colab": {
          "base_uri": "https://localhost:8080/"
        },
        "id": "pzL9ot0sudvR",
        "outputId": "cb763b20-d120-45db-a8c7-4b3e73f7683e"
      },
      "execution_count": 9,
      "outputs": [
        {
          "output_type": "execute_result",
          "data": {
            "text/plain": [
              "(TensorShape([]), TensorShape([]))"
            ]
          },
          "metadata": {},
          "execution_count": 9
        }
      ]
    },
    {
      "cell_type": "markdown",
      "source": [
        "### HOW TO BUILD A MODEL THAT PREDICTS OUTPUT WHEN WE HAVE SINGLE INPUT i.e INPUT SHAPE IS 1 AND OUTPUT SHAPE IS ALSO 1\n",
        "\n",
        "Steps in modelling with tensorflow\n",
        "1. **creating a model**:- define the input and output layers, as well as the number of hideen layers in the moedel\n",
        "2. **Compiling a model**: -define the loss function (function that tells how wrong it is) and the optimizer (tells the model how to improve patterns and its learning) and the evaluation metrics (what we can use to interpret the preformance of our model)\n",
        "3. **Fitting the model**:- letting the model try to find patterns between X & Y"
      ],
      "metadata": {
        "id": "af5ViYCeu3OA"
      }
    },
    {
      "cell_type": "code",
      "source": [
        "tf.random.set_seed(42)\n",
        "\n",
        "model = tf.keras.Sequential([\n",
        "    # tf.keras.layers.Dense(100,activation='relu'),\n",
        "    # tf.keras.layers.Dense(100,activation='relu'),\n",
        "    # tf.keras.layers.Dense(100,activation='relu'),\n",
        "    tf.keras.layers.Dense(1)\n",
        "    ]\n",
        ")\n",
        "\n",
        "model.compile(loss = tf.keras.losses.mae,optimizer = tf.keras.optimizers.SGD(),\n",
        "              metrics = ['mae'])\n",
        "\n",
        "model.fit(tf.expand_dims(X,axis=-1) , Y , epochs= 100\n",
        "          )"
      ],
      "metadata": {
        "colab": {
          "base_uri": "https://localhost:8080/"
        },
        "id": "_BYdS5UHuyOP",
        "outputId": "2480b345-6b80-426e-f165-27bd94234c90"
      },
      "execution_count": 10,
      "outputs": [
        {
          "output_type": "stream",
          "name": "stdout",
          "text": [
            "Epoch 1/100\n",
            "2/2 [==============================] - 6s 21ms/step - loss: 9.9831 - mae: 9.9831\n",
            "Epoch 2/100\n",
            "2/2 [==============================] - 0s 16ms/step - loss: 10.1286 - mae: 10.1286\n",
            "Epoch 3/100\n",
            "2/2 [==============================] - 0s 15ms/step - loss: 9.8733 - mae: 9.8733\n",
            "Epoch 4/100\n",
            "2/2 [==============================] - 0s 15ms/step - loss: 9.8580 - mae: 9.8580\n",
            "Epoch 5/100\n",
            "2/2 [==============================] - 0s 25ms/step - loss: 10.0302 - mae: 10.0302\n",
            "Epoch 6/100\n",
            "2/2 [==============================] - 0s 32ms/step - loss: 9.6656 - mae: 9.6656\n",
            "Epoch 7/100\n",
            "2/2 [==============================] - 0s 29ms/step - loss: 9.8363 - mae: 9.8363\n",
            "Epoch 8/100\n",
            "2/2 [==============================] - 0s 10ms/step - loss: 9.7991 - mae: 9.7991\n",
            "Epoch 9/100\n",
            "2/2 [==============================] - 0s 23ms/step - loss: 9.6984 - mae: 9.6984\n",
            "Epoch 10/100\n",
            "2/2 [==============================] - 0s 23ms/step - loss: 9.6950 - mae: 9.6950\n",
            "Epoch 11/100\n",
            "2/2 [==============================] - 0s 15ms/step - loss: 9.6729 - mae: 9.6729\n",
            "Epoch 12/100\n",
            "2/2 [==============================] - 0s 15ms/step - loss: 9.6432 - mae: 9.6432\n",
            "Epoch 13/100\n",
            "2/2 [==============================] - 0s 16ms/step - loss: 9.5878 - mae: 9.5878\n",
            "Epoch 14/100\n",
            "2/2 [==============================] - 0s 14ms/step - loss: 9.9094 - mae: 9.9094\n",
            "Epoch 15/100\n",
            "2/2 [==============================] - 0s 12ms/step - loss: 9.9547 - mae: 9.9547\n",
            "Epoch 16/100\n",
            "2/2 [==============================] - 0s 28ms/step - loss: 9.6343 - mae: 9.6343\n",
            "Epoch 17/100\n",
            "2/2 [==============================] - 0s 14ms/step - loss: 9.6646 - mae: 9.6646\n",
            "Epoch 18/100\n",
            "2/2 [==============================] - 0s 14ms/step - loss: 9.4916 - mae: 9.4916\n",
            "Epoch 19/100\n",
            "2/2 [==============================] - 0s 23ms/step - loss: 9.7674 - mae: 9.7674\n",
            "Epoch 20/100\n",
            "2/2 [==============================] - 0s 11ms/step - loss: 9.7422 - mae: 9.7422\n",
            "Epoch 21/100\n",
            "2/2 [==============================] - 0s 11ms/step - loss: 9.6307 - mae: 9.6307\n",
            "Epoch 22/100\n",
            "2/2 [==============================] - 0s 27ms/step - loss: 9.5332 - mae: 9.5332\n",
            "Epoch 23/100\n",
            "2/2 [==============================] - 0s 16ms/step - loss: 9.5595 - mae: 9.5595\n",
            "Epoch 24/100\n",
            "2/2 [==============================] - 0s 15ms/step - loss: 9.4880 - mae: 9.4880\n",
            "Epoch 25/100\n",
            "2/2 [==============================] - 0s 12ms/step - loss: 9.4471 - mae: 9.4471\n",
            "Epoch 26/100\n",
            "2/2 [==============================] - 0s 15ms/step - loss: 9.4440 - mae: 9.4440\n",
            "Epoch 27/100\n",
            "2/2 [==============================] - 0s 18ms/step - loss: 9.3645 - mae: 9.3645\n",
            "Epoch 28/100\n",
            "2/2 [==============================] - 0s 20ms/step - loss: 9.3180 - mae: 9.3180\n",
            "Epoch 29/100\n",
            "2/2 [==============================] - 0s 11ms/step - loss: 9.2746 - mae: 9.2746\n",
            "Epoch 30/100\n",
            "2/2 [==============================] - 0s 15ms/step - loss: 9.2519 - mae: 9.2519\n",
            "Epoch 31/100\n",
            "2/2 [==============================] - 0s 25ms/step - loss: 9.5856 - mae: 9.5856\n",
            "Epoch 32/100\n",
            "2/2 [==============================] - 0s 12ms/step - loss: 9.2173 - mae: 9.2173\n",
            "Epoch 33/100\n",
            "2/2 [==============================] - 0s 11ms/step - loss: 9.2353 - mae: 9.2353\n",
            "Epoch 34/100\n",
            "2/2 [==============================] - 0s 12ms/step - loss: 9.3017 - mae: 9.3017\n",
            "Epoch 35/100\n",
            "2/2 [==============================] - 0s 13ms/step - loss: 9.3350 - mae: 9.3350\n",
            "Epoch 36/100\n",
            "2/2 [==============================] - 0s 12ms/step - loss: 9.2479 - mae: 9.2479\n",
            "Epoch 37/100\n",
            "2/2 [==============================] - 0s 20ms/step - loss: 9.1428 - mae: 9.1428\n",
            "Epoch 38/100\n",
            "2/2 [==============================] - 0s 20ms/step - loss: 9.1566 - mae: 9.1566\n",
            "Epoch 39/100\n",
            "2/2 [==============================] - 0s 13ms/step - loss: 9.2766 - mae: 9.2766\n",
            "Epoch 40/100\n",
            "2/2 [==============================] - 0s 11ms/step - loss: 9.0822 - mae: 9.0822\n",
            "Epoch 41/100\n",
            "2/2 [==============================] - 0s 14ms/step - loss: 9.3049 - mae: 9.3049\n",
            "Epoch 42/100\n",
            "2/2 [==============================] - 0s 18ms/step - loss: 9.0756 - mae: 9.0756\n",
            "Epoch 43/100\n",
            "2/2 [==============================] - 0s 23ms/step - loss: 9.0234 - mae: 9.0234\n",
            "Epoch 44/100\n",
            "2/2 [==============================] - 0s 39ms/step - loss: 9.0645 - mae: 9.0645\n",
            "Epoch 45/100\n",
            "2/2 [==============================] - 0s 23ms/step - loss: 9.1430 - mae: 9.1430\n",
            "Epoch 46/100\n",
            "2/2 [==============================] - 0s 14ms/step - loss: 9.0013 - mae: 9.0013\n",
            "Epoch 47/100\n",
            "2/2 [==============================] - 0s 14ms/step - loss: 8.9628 - mae: 8.9628\n",
            "Epoch 48/100\n",
            "2/2 [==============================] - 0s 14ms/step - loss: 9.0224 - mae: 9.0224\n",
            "Epoch 49/100\n",
            "2/2 [==============================] - 0s 14ms/step - loss: 9.2119 - mae: 9.2119\n",
            "Epoch 50/100\n",
            "2/2 [==============================] - 0s 16ms/step - loss: 9.0205 - mae: 9.0205\n",
            "Epoch 51/100\n",
            "2/2 [==============================] - 0s 24ms/step - loss: 8.9100 - mae: 8.9100\n",
            "Epoch 52/100\n",
            "2/2 [==============================] - 0s 20ms/step - loss: 8.8647 - mae: 8.8647\n",
            "Epoch 53/100\n",
            "2/2 [==============================] - 0s 26ms/step - loss: 8.8890 - mae: 8.8890\n",
            "Epoch 54/100\n",
            "2/2 [==============================] - 0s 13ms/step - loss: 8.8433 - mae: 8.8433\n",
            "Epoch 55/100\n",
            "2/2 [==============================] - 0s 16ms/step - loss: 8.8673 - mae: 8.8673\n",
            "Epoch 56/100\n",
            "2/2 [==============================] - 0s 12ms/step - loss: 8.7672 - mae: 8.7672\n",
            "Epoch 57/100\n",
            "2/2 [==============================] - 0s 23ms/step - loss: 8.9914 - mae: 8.9914\n",
            "Epoch 58/100\n",
            "2/2 [==============================] - 0s 11ms/step - loss: 8.8828 - mae: 8.8828\n",
            "Epoch 59/100\n",
            "2/2 [==============================] - 0s 23ms/step - loss: 8.7170 - mae: 8.7170\n",
            "Epoch 60/100\n",
            "2/2 [==============================] - 0s 19ms/step - loss: 9.0180 - mae: 9.0180\n",
            "Epoch 61/100\n",
            "2/2 [==============================] - 0s 12ms/step - loss: 8.6849 - mae: 8.6849\n",
            "Epoch 62/100\n",
            "2/2 [==============================] - 0s 26ms/step - loss: 8.8415 - mae: 8.8415\n",
            "Epoch 63/100\n",
            "2/2 [==============================] - 0s 42ms/step - loss: 8.6568 - mae: 8.6568\n",
            "Epoch 64/100\n",
            "2/2 [==============================] - 0s 15ms/step - loss: 8.6796 - mae: 8.6796\n",
            "Epoch 65/100\n",
            "2/2 [==============================] - 0s 20ms/step - loss: 8.6419 - mae: 8.6419\n",
            "Epoch 66/100\n",
            "2/2 [==============================] - 0s 12ms/step - loss: 8.5974 - mae: 8.5974\n",
            "Epoch 67/100\n",
            "2/2 [==============================] - 0s 18ms/step - loss: 8.5834 - mae: 8.5834\n",
            "Epoch 68/100\n",
            "2/2 [==============================] - 0s 18ms/step - loss: 8.6083 - mae: 8.6083\n",
            "Epoch 69/100\n",
            "2/2 [==============================] - 0s 15ms/step - loss: 8.6324 - mae: 8.6324\n",
            "Epoch 70/100\n",
            "2/2 [==============================] - 0s 13ms/step - loss: 8.6823 - mae: 8.6823\n",
            "Epoch 71/100\n",
            "2/2 [==============================] - 0s 17ms/step - loss: 8.5287 - mae: 8.5287\n",
            "Epoch 72/100\n",
            "2/2 [==============================] - 0s 13ms/step - loss: 8.4275 - mae: 8.4275\n",
            "Epoch 73/100\n",
            "2/2 [==============================] - 0s 12ms/step - loss: 8.5571 - mae: 8.5571\n",
            "Epoch 74/100\n",
            "2/2 [==============================] - 0s 12ms/step - loss: 8.5155 - mae: 8.5155\n",
            "Epoch 75/100\n",
            "2/2 [==============================] - 0s 12ms/step - loss: 8.4597 - mae: 8.4597\n",
            "Epoch 76/100\n",
            "2/2 [==============================] - 0s 13ms/step - loss: 8.4561 - mae: 8.4561\n",
            "Epoch 77/100\n",
            "2/2 [==============================] - 0s 15ms/step - loss: 8.4828 - mae: 8.4828\n",
            "Epoch 78/100\n",
            "2/2 [==============================] - 0s 11ms/step - loss: 8.4568 - mae: 8.4568\n",
            "Epoch 79/100\n",
            "2/2 [==============================] - 0s 11ms/step - loss: 8.4918 - mae: 8.4918\n",
            "Epoch 80/100\n",
            "2/2 [==============================] - 0s 18ms/step - loss: 8.3375 - mae: 8.3375\n",
            "Epoch 81/100\n",
            "2/2 [==============================] - 0s 17ms/step - loss: 8.4150 - mae: 8.4150\n",
            "Epoch 82/100\n",
            "2/2 [==============================] - 0s 14ms/step - loss: 8.5340 - mae: 8.5340\n",
            "Epoch 83/100\n",
            "2/2 [==============================] - 0s 26ms/step - loss: 8.3380 - mae: 8.3380\n",
            "Epoch 84/100\n",
            "2/2 [==============================] - 0s 13ms/step - loss: 8.2558 - mae: 8.2558\n",
            "Epoch 85/100\n",
            "2/2 [==============================] - 0s 19ms/step - loss: 8.2427 - mae: 8.2427\n",
            "Epoch 86/100\n",
            "2/2 [==============================] - 0s 12ms/step - loss: 8.3092 - mae: 8.3092\n",
            "Epoch 87/100\n",
            "2/2 [==============================] - 0s 15ms/step - loss: 8.3754 - mae: 8.3754\n",
            "Epoch 88/100\n",
            "2/2 [==============================] - 0s 13ms/step - loss: 8.2475 - mae: 8.2475\n",
            "Epoch 89/100\n",
            "2/2 [==============================] - 0s 14ms/step - loss: 8.2683 - mae: 8.2683\n",
            "Epoch 90/100\n",
            "2/2 [==============================] - 0s 18ms/step - loss: 8.2056 - mae: 8.2056\n",
            "Epoch 91/100\n",
            "2/2 [==============================] - 0s 20ms/step - loss: 8.2031 - mae: 8.2031\n",
            "Epoch 92/100\n",
            "2/2 [==============================] - 0s 16ms/step - loss: 8.1548 - mae: 8.1548\n",
            "Epoch 93/100\n",
            "2/2 [==============================] - 0s 15ms/step - loss: 8.2877 - mae: 8.2877\n",
            "Epoch 94/100\n",
            "2/2 [==============================] - 0s 18ms/step - loss: 8.0268 - mae: 8.0268\n",
            "Epoch 95/100\n",
            "2/2 [==============================] - 0s 13ms/step - loss: 8.0027 - mae: 8.0027\n",
            "Epoch 96/100\n",
            "2/2 [==============================] - 0s 13ms/step - loss: 8.1460 - mae: 8.1460\n",
            "Epoch 97/100\n",
            "2/2 [==============================] - 0s 16ms/step - loss: 8.0384 - mae: 8.0384\n",
            "Epoch 98/100\n",
            "2/2 [==============================] - 0s 13ms/step - loss: 8.0124 - mae: 8.0124\n",
            "Epoch 99/100\n",
            "2/2 [==============================] - 0s 12ms/step - loss: 8.0228 - mae: 8.0228\n",
            "Epoch 100/100\n",
            "2/2 [==============================] - 0s 17ms/step - loss: 7.9879 - mae: 7.9879\n"
          ]
        },
        {
          "output_type": "execute_result",
          "data": {
            "text/plain": [
              "<keras.src.callbacks.History at 0x7b39408f9ff0>"
            ]
          },
          "metadata": {},
          "execution_count": 10
        }
      ]
    },
    {
      "cell_type": "code",
      "source": [
        "# making prediction\n",
        "model.predict([48.0])"
      ],
      "metadata": {
        "colab": {
          "base_uri": "https://localhost:8080/"
        },
        "id": "4a4Va8NC2Uiq",
        "outputId": "eef7a4a6-b07d-4dfe-b1eb-5beb9d593c9d"
      },
      "execution_count": 11,
      "outputs": [
        {
          "output_type": "stream",
          "name": "stdout",
          "text": [
            "1/1 [==============================] - 0s 147ms/step\n"
          ]
        },
        {
          "output_type": "execute_result",
          "data": {
            "text/plain": [
              "array([[43.939785]], dtype=float32)"
            ]
          },
          "metadata": {},
          "execution_count": 11
        }
      ]
    },
    {
      "cell_type": "markdown",
      "source": [
        "### IMPROVING MODEL PERFORMANCE\n",
        "\n",
        "This can be done by altering the parameters and setps while building the model\n",
        "1. add more layers\n",
        "2. increase number of hidden neurons\n",
        "3. changing activation function\n",
        "4. changing optimizer/learning rate\n",
        "5. increase epochs/ give more data for training"
      ],
      "metadata": {
        "id": "dOq6ITiGFJAh"
      }
    },
    {
      "cell_type": "code",
      "source": [
        "model2 = tf.keras.Sequential([\n",
        "    tf.keras.layers.Dense(1),\n",
        "    tf.keras.layers.Dense(100,activation='relu'),\n",
        "\n",
        "])\n",
        "model2.compile(loss = \"mae\" , optimizer = tf.keras.optimizers.Adam(learning_rate=0.001),\n",
        "              metrics = ['mae'])\n",
        "\n",
        "model.fit(tf.expand_dims(X,axis=-1),Y,epochs=100)\n"
      ],
      "metadata": {
        "id": "Phpoju-v4n03",
        "colab": {
          "base_uri": "https://localhost:8080/"
        },
        "outputId": "8a279762-f070-41e8-828b-a53eea6e5dc1"
      },
      "execution_count": 12,
      "outputs": [
        {
          "output_type": "stream",
          "name": "stdout",
          "text": [
            "Epoch 1/100\n",
            "2/2 [==============================] - 0s 15ms/step - loss: 7.9195 - mae: 7.9195\n",
            "Epoch 2/100\n",
            "2/2 [==============================] - 0s 14ms/step - loss: 8.0650 - mae: 8.0650\n",
            "Epoch 3/100\n",
            "2/2 [==============================] - 0s 12ms/step - loss: 8.4363 - mae: 8.4363\n",
            "Epoch 4/100\n",
            "2/2 [==============================] - 0s 12ms/step - loss: 7.9351 - mae: 7.9351\n",
            "Epoch 5/100\n",
            "2/2 [==============================] - 0s 36ms/step - loss: 8.3726 - mae: 8.3726\n",
            "Epoch 6/100\n",
            "2/2 [==============================] - 0s 13ms/step - loss: 7.9021 - mae: 7.9021\n",
            "Epoch 7/100\n",
            "2/2 [==============================] - 0s 14ms/step - loss: 8.0002 - mae: 8.0002\n",
            "Epoch 8/100\n",
            "2/2 [==============================] - 0s 14ms/step - loss: 7.9630 - mae: 7.9630\n",
            "Epoch 9/100\n",
            "2/2 [==============================] - 0s 16ms/step - loss: 7.8622 - mae: 7.8622\n",
            "Epoch 10/100\n",
            "2/2 [==============================] - 0s 23ms/step - loss: 7.8588 - mae: 7.8588\n",
            "Epoch 11/100\n",
            "2/2 [==============================] - 0s 32ms/step - loss: 7.8368 - mae: 7.8368\n",
            "Epoch 12/100\n",
            "2/2 [==============================] - 0s 31ms/step - loss: 7.8071 - mae: 7.8071\n",
            "Epoch 13/100\n",
            "2/2 [==============================] - 0s 22ms/step - loss: 7.7516 - mae: 7.7516\n",
            "Epoch 14/100\n",
            "2/2 [==============================] - 0s 28ms/step - loss: 7.9368 - mae: 7.9368\n",
            "Epoch 15/100\n",
            "2/2 [==============================] - 0s 20ms/step - loss: 7.6924 - mae: 7.6924\n",
            "Epoch 16/100\n",
            "2/2 [==============================] - 0s 32ms/step - loss: 7.5922 - mae: 7.5922\n",
            "Epoch 17/100\n",
            "2/2 [==============================] - 0s 11ms/step - loss: 7.7968 - mae: 7.7968\n",
            "Epoch 18/100\n",
            "2/2 [==============================] - 0s 11ms/step - loss: 7.6238 - mae: 7.6238\n",
            "Epoch 19/100\n",
            "2/2 [==============================] - 0s 15ms/step - loss: 7.6296 - mae: 7.6296\n",
            "Epoch 20/100\n",
            "2/2 [==============================] - 0s 18ms/step - loss: 8.1183 - mae: 8.1183\n",
            "Epoch 21/100\n",
            "2/2 [==============================] - 0s 45ms/step - loss: 7.4593 - mae: 7.4593\n",
            "Epoch 22/100\n",
            "2/2 [==============================] - 0s 19ms/step - loss: 7.6361 - mae: 7.6361\n",
            "Epoch 23/100\n",
            "2/2 [==============================] - 0s 24ms/step - loss: 7.6624 - mae: 7.6624\n",
            "Epoch 24/100\n",
            "2/2 [==============================] - 0s 19ms/step - loss: 7.5909 - mae: 7.5909\n",
            "Epoch 25/100\n",
            "2/2 [==============================] - 0s 11ms/step - loss: 7.5500 - mae: 7.5500\n",
            "Epoch 26/100\n",
            "2/2 [==============================] - 0s 11ms/step - loss: 7.5468 - mae: 7.5468\n",
            "Epoch 27/100\n",
            "2/2 [==============================] - 0s 11ms/step - loss: 7.4673 - mae: 7.4673\n",
            "Epoch 28/100\n",
            "2/2 [==============================] - 0s 10ms/step - loss: 7.4209 - mae: 7.4209\n",
            "Epoch 29/100\n",
            "2/2 [==============================] - 0s 11ms/step - loss: 7.3775 - mae: 7.3775\n",
            "Epoch 30/100\n",
            "2/2 [==============================] - 0s 19ms/step - loss: 7.4451 - mae: 7.4451\n",
            "Epoch 31/100\n",
            "2/2 [==============================] - 0s 19ms/step - loss: 7.7088 - mae: 7.7088\n",
            "Epoch 32/100\n",
            "2/2 [==============================] - 0s 19ms/step - loss: 7.3335 - mae: 7.3335\n",
            "Epoch 33/100\n",
            "2/2 [==============================] - 0s 13ms/step - loss: 7.3018 - mae: 7.3018\n",
            "Epoch 34/100\n",
            "2/2 [==============================] - 0s 11ms/step - loss: 7.3682 - mae: 7.3682\n",
            "Epoch 35/100\n",
            "2/2 [==============================] - 0s 11ms/step - loss: 7.5565 - mae: 7.5565\n",
            "Epoch 36/100\n",
            "2/2 [==============================] - 0s 20ms/step - loss: 7.3287 - mae: 7.3287\n",
            "Epoch 37/100\n",
            "2/2 [==============================] - 0s 16ms/step - loss: 7.2222 - mae: 7.2222\n",
            "Epoch 38/100\n",
            "2/2 [==============================] - 0s 11ms/step - loss: 7.2206 - mae: 7.2206\n",
            "Epoch 39/100\n",
            "2/2 [==============================] - 0s 10ms/step - loss: 7.3406 - mae: 7.3406\n",
            "Epoch 40/100\n",
            "2/2 [==============================] - 0s 11ms/step - loss: 7.2643 - mae: 7.2643\n",
            "Epoch 41/100\n",
            "2/2 [==============================] - 0s 23ms/step - loss: 7.3970 - mae: 7.3970\n",
            "Epoch 42/100\n",
            "2/2 [==============================] - 0s 17ms/step - loss: 7.1677 - mae: 7.1677\n",
            "Epoch 43/100\n",
            "2/2 [==============================] - 0s 16ms/step - loss: 7.1156 - mae: 7.1156\n",
            "Epoch 44/100\n",
            "2/2 [==============================] - 0s 18ms/step - loss: 7.1412 - mae: 7.1412\n",
            "Epoch 45/100\n",
            "2/2 [==============================] - 0s 25ms/step - loss: 7.2352 - mae: 7.2352\n",
            "Epoch 46/100\n",
            "2/2 [==============================] - 0s 14ms/step - loss: 7.0934 - mae: 7.0934\n",
            "Epoch 47/100\n",
            "2/2 [==============================] - 0s 10ms/step - loss: 7.0549 - mae: 7.0549\n",
            "Epoch 48/100\n",
            "2/2 [==============================] - 0s 11ms/step - loss: 7.1068 - mae: 7.1068\n",
            "Epoch 49/100\n",
            "2/2 [==============================] - 0s 29ms/step - loss: 7.3040 - mae: 7.3040\n",
            "Epoch 50/100\n",
            "2/2 [==============================] - 0s 14ms/step - loss: 7.1127 - mae: 7.1127\n",
            "Epoch 51/100\n",
            "2/2 [==============================] - 0s 14ms/step - loss: 7.0021 - mae: 7.0021\n",
            "Epoch 52/100\n",
            "2/2 [==============================] - 0s 16ms/step - loss: 6.9568 - mae: 6.9568\n",
            "Epoch 53/100\n",
            "2/2 [==============================] - 0s 29ms/step - loss: 6.9812 - mae: 6.9812\n",
            "Epoch 54/100\n",
            "2/2 [==============================] - 0s 28ms/step - loss: 6.9354 - mae: 6.9354\n",
            "Epoch 55/100\n",
            "2/2 [==============================] - 0s 24ms/step - loss: 6.9595 - mae: 6.9595\n",
            "Epoch 56/100\n",
            "2/2 [==============================] - 0s 12ms/step - loss: 6.8426 - mae: 6.8426\n",
            "Epoch 57/100\n",
            "2/2 [==============================] - 0s 31ms/step - loss: 7.0291 - mae: 7.0291\n",
            "Epoch 58/100\n",
            "2/2 [==============================] - 0s 27ms/step - loss: 7.3792 - mae: 7.3792\n",
            "Epoch 59/100\n",
            "2/2 [==============================] - 0s 12ms/step - loss: 6.8290 - mae: 6.8290\n",
            "Epoch 60/100\n",
            "2/2 [==============================] - 0s 12ms/step - loss: 6.9500 - mae: 6.9500\n",
            "Epoch 61/100\n",
            "2/2 [==============================] - 0s 13ms/step - loss: 6.7689 - mae: 6.7689\n",
            "Epoch 62/100\n",
            "2/2 [==============================] - 0s 13ms/step - loss: 6.9271 - mae: 6.9271\n",
            "Epoch 63/100\n",
            "2/2 [==============================] - 0s 12ms/step - loss: 6.7770 - mae: 6.7770\n",
            "Epoch 64/100\n",
            "2/2 [==============================] - 0s 12ms/step - loss: 6.7458 - mae: 6.7458\n",
            "Epoch 65/100\n",
            "2/2 [==============================] - 0s 12ms/step - loss: 6.7080 - mae: 6.7080\n",
            "Epoch 66/100\n",
            "2/2 [==============================] - 0s 12ms/step - loss: 6.6849 - mae: 6.6849\n",
            "Epoch 67/100\n",
            "2/2 [==============================] - 0s 12ms/step - loss: 6.7062 - mae: 6.7062\n",
            "Epoch 68/100\n",
            "2/2 [==============================] - 0s 10ms/step - loss: 6.7192 - mae: 6.7192\n",
            "Epoch 69/100\n",
            "2/2 [==============================] - 0s 10ms/step - loss: 6.7030 - mae: 6.7030\n",
            "Epoch 70/100\n",
            "2/2 [==============================] - 0s 12ms/step - loss: 6.7530 - mae: 6.7530\n",
            "Epoch 71/100\n",
            "2/2 [==============================] - 0s 17ms/step - loss: 6.5993 - mae: 6.5993\n",
            "Epoch 72/100\n",
            "2/2 [==============================] - 0s 11ms/step - loss: 6.6228 - mae: 6.6228\n",
            "Epoch 73/100\n",
            "2/2 [==============================] - 0s 36ms/step - loss: 6.6534 - mae: 6.6534\n",
            "Epoch 74/100\n",
            "2/2 [==============================] - 0s 25ms/step - loss: 6.6117 - mae: 6.6117\n",
            "Epoch 75/100\n",
            "2/2 [==============================] - 0s 27ms/step - loss: 6.5559 - mae: 6.5559\n",
            "Epoch 76/100\n",
            "2/2 [==============================] - 0s 17ms/step - loss: 6.5523 - mae: 6.5523\n",
            "Epoch 77/100\n",
            "2/2 [==============================] - 0s 22ms/step - loss: 6.5468 - mae: 6.5468\n",
            "Epoch 78/100\n",
            "2/2 [==============================] - 0s 15ms/step - loss: 6.5531 - mae: 6.5531\n",
            "Epoch 79/100\n",
            "2/2 [==============================] - 0s 14ms/step - loss: 6.5881 - mae: 6.5881\n",
            "Epoch 80/100\n",
            "2/2 [==============================] - 0s 21ms/step - loss: 6.4338 - mae: 6.4338\n",
            "Epoch 81/100\n",
            "2/2 [==============================] - 0s 25ms/step - loss: 6.5113 - mae: 6.5113\n",
            "Epoch 82/100\n",
            "2/2 [==============================] - 0s 15ms/step - loss: 6.5392 - mae: 6.5392\n",
            "Epoch 83/100\n",
            "2/2 [==============================] - 0s 14ms/step - loss: 6.4062 - mae: 6.4062\n",
            "Epoch 84/100\n",
            "2/2 [==============================] - 0s 16ms/step - loss: 6.2893 - mae: 6.2893\n",
            "Epoch 85/100\n",
            "2/2 [==============================] - 0s 28ms/step - loss: 6.3415 - mae: 6.3415\n",
            "Epoch 86/100\n",
            "2/2 [==============================] - 0s 19ms/step - loss: 6.3935 - mae: 6.3935\n",
            "Epoch 87/100\n",
            "2/2 [==============================] - 0s 16ms/step - loss: 6.4175 - mae: 6.4175\n",
            "Epoch 88/100\n",
            "2/2 [==============================] - 0s 16ms/step - loss: 6.2896 - mae: 6.2896\n",
            "Epoch 89/100\n",
            "2/2 [==============================] - 0s 20ms/step - loss: 6.3104 - mae: 6.3104\n",
            "Epoch 90/100\n",
            "2/2 [==============================] - 0s 30ms/step - loss: 6.2477 - mae: 6.2477\n",
            "Epoch 91/100\n",
            "2/2 [==============================] - 0s 23ms/step - loss: 6.2452 - mae: 6.2452\n",
            "Epoch 92/100\n",
            "2/2 [==============================] - 0s 23ms/step - loss: 6.1969 - mae: 6.1969\n",
            "Epoch 93/100\n",
            "2/2 [==============================] - 0s 15ms/step - loss: 6.3298 - mae: 6.3298\n",
            "Epoch 94/100\n",
            "2/2 [==============================] - 0s 42ms/step - loss: 6.2000 - mae: 6.2000\n",
            "Epoch 95/100\n",
            "2/2 [==============================] - 0s 24ms/step - loss: 6.1342 - mae: 6.1342\n",
            "Epoch 96/100\n",
            "2/2 [==============================] - 0s 25ms/step - loss: 6.0733 - mae: 6.0733\n",
            "Epoch 97/100\n",
            "2/2 [==============================] - 0s 35ms/step - loss: 5.9855 - mae: 5.9855\n",
            "Epoch 98/100\n",
            "2/2 [==============================] - 0s 31ms/step - loss: 6.2051 - mae: 6.2051\n",
            "Epoch 99/100\n",
            "2/2 [==============================] - 0s 14ms/step - loss: 6.0788 - mae: 6.0788\n",
            "Epoch 100/100\n",
            "2/2 [==============================] - 0s 10ms/step - loss: 6.0925 - mae: 6.0925\n"
          ]
        },
        {
          "output_type": "execute_result",
          "data": {
            "text/plain": [
              "<keras.src.callbacks.History at 0x7b39405a5480>"
            ]
          },
          "metadata": {},
          "execution_count": 12
        }
      ]
    },
    {
      "cell_type": "code",
      "source": [
        "model.predict([48.0])"
      ],
      "metadata": {
        "colab": {
          "base_uri": "https://localhost:8080/"
        },
        "id": "uybmlZlbLC3v",
        "outputId": "15b7b291-7d3b-44bb-9352-63a77ed2c47d"
      },
      "execution_count": 13,
      "outputs": [
        {
          "output_type": "stream",
          "name": "stdout",
          "text": [
            "1/1 [==============================] - 0s 56ms/step\n"
          ]
        },
        {
          "output_type": "execute_result",
          "data": {
            "text/plain": [
              "array([[48.591446]], dtype=float32)"
            ]
          },
          "metadata": {},
          "execution_count": 13
        }
      ]
    },
    {
      "cell_type": "markdown",
      "source": [
        "### EVALUATING A MODEL"
      ],
      "metadata": {
        "id": "0myOzH_eQkn6"
      }
    },
    {
      "cell_type": "code",
      "source": [
        "# creating a bigger data set\n",
        "x = tf.range(-500,500,10)\n",
        "y = x+2"
      ],
      "metadata": {
        "id": "3crqUEKjLaVH"
      },
      "execution_count": 14,
      "outputs": []
    },
    {
      "cell_type": "code",
      "source": [
        "print(x)\n",
        "print(y)"
      ],
      "metadata": {
        "colab": {
          "base_uri": "https://localhost:8080/"
        },
        "id": "TiY5QnTjSlQH",
        "outputId": "18b9c450-7fb2-4486-87f8-b2ead1656d24"
      },
      "execution_count": 15,
      "outputs": [
        {
          "output_type": "stream",
          "name": "stdout",
          "text": [
            "tf.Tensor(\n",
            "[-500 -490 -480 -470 -460 -450 -440 -430 -420 -410 -400 -390 -380 -370\n",
            " -360 -350 -340 -330 -320 -310 -300 -290 -280 -270 -260 -250 -240 -230\n",
            " -220 -210 -200 -190 -180 -170 -160 -150 -140 -130 -120 -110 -100  -90\n",
            "  -80  -70  -60  -50  -40  -30  -20  -10    0   10   20   30   40   50\n",
            "   60   70   80   90  100  110  120  130  140  150  160  170  180  190\n",
            "  200  210  220  230  240  250  260  270  280  290  300  310  320  330\n",
            "  340  350  360  370  380  390  400  410  420  430  440  450  460  470\n",
            "  480  490], shape=(100,), dtype=int32)\n",
            "tf.Tensor(\n",
            "[-498 -488 -478 -468 -458 -448 -438 -428 -418 -408 -398 -388 -378 -368\n",
            " -358 -348 -338 -328 -318 -308 -298 -288 -278 -268 -258 -248 -238 -228\n",
            " -218 -208 -198 -188 -178 -168 -158 -148 -138 -128 -118 -108  -98  -88\n",
            "  -78  -68  -58  -48  -38  -28  -18   -8    2   12   22   32   42   52\n",
            "   62   72   82   92  102  112  122  132  142  152  162  172  182  192\n",
            "  202  212  222  232  242  252  262  272  282  292  302  312  322  332\n",
            "  342  352  362  372  382  392  402  412  422  432  442  452  462  472\n",
            "  482  492], shape=(100,), dtype=int32)\n"
          ]
        }
      ]
    },
    {
      "cell_type": "code",
      "source": [
        "plt.plot(x,y)"
      ],
      "metadata": {
        "colab": {
          "base_uri": "https://localhost:8080/",
          "height": 448
        },
        "id": "cWKllWVXTrvU",
        "outputId": "a79dc6b0-192d-491c-d046-1d20fbf25c18"
      },
      "execution_count": 16,
      "outputs": [
        {
          "output_type": "execute_result",
          "data": {
            "text/plain": [
              "[<matplotlib.lines.Line2D at 0x7b39406242e0>]"
            ]
          },
          "metadata": {},
          "execution_count": 16
        },
        {
          "output_type": "display_data",
          "data": {
            "text/plain": [
              "<Figure size 640x480 with 1 Axes>"
            ],
            "image/png": "[encoded data removed]"
          },
          "metadata": {}
        }
      ]
    },
    {
      "cell_type": "markdown",
      "source": [
        "### The 3 set rule\n",
        "`training set` - set on which we train the model(typically 80%)\n",
        "\n",
        "`validation set` - model gets tuned on this data(typically 10-15%)\n",
        "\n",
        "`test data` - this is the set on whihc we test the trained model(typically 10-15%)\n"
      ],
      "metadata": {
        "id": "Fb67ugcIg1F8"
      }
    },
    {
      "cell_type": "code",
      "source": [
        "len(x)"
      ],
      "metadata": {
        "colab": {
          "base_uri": "https://localhost:8080/"
        },
        "id": "D84J7_IbUAef",
        "outputId": "85d85197-3fc6-4664-be74-a272336779cf"
      },
      "execution_count": 17,
      "outputs": [
        {
          "output_type": "execute_result",
          "data": {
            "text/plain": [
              "100"
            ]
          },
          "metadata": {},
          "execution_count": 17
        }
      ]
    },
    {
      "cell_type": "code",
      "source": [
        "from sklearn.model_selection import train_test_split\n",
        "\n",
        "# Splitting data into train and temp sets\n",
        "X_train, X_temp, y_train, y_temp = train_test_split(x, y, test_size=0.2, random_state=42)\n",
        "\n",
        "# Splitting temp set into validation and test sets\n",
        "X_test, X_val, y_test, y_val = train_test_split(X_temp, y_temp, test_size=0.5, random_state=42)\n"
      ],
      "metadata": {
        "colab": {
          "base_uri": "https://localhost:8080/",
          "height": 495
        },
        "id": "MCsBhlhyh1Ez",
        "outputId": "0a4f30d3-9932-41a3-aaf1-907d615d5316"
      },
      "execution_count": 18,
      "outputs": [
        {
          "output_type": "error",
          "ename": "TypeError",
          "evalue": "ignored",
          "traceback": [
            "\u001b[0;31m---------------------------------------------------------------------------\u001b[0m",
            "\u001b[0;31mTypeError\u001b[0m                                 Traceback (most recent call last)",
            "\u001b[0;32m<ipython-input-18-e63dfde13fb1>\u001b[0m in \u001b[0;36m<cell line: 4>\u001b[0;34m()\u001b[0m\n\u001b[1;32m      2\u001b[0m \u001b[0;34m\u001b[0m\u001b[0m\n\u001b[1;32m      3\u001b[0m \u001b[0;31m# Splitting data into train and temp sets\u001b[0m\u001b[0;34m\u001b[0m\u001b[0;34m\u001b[0m\u001b[0m\n\u001b[0;32m----> 4\u001b[0;31m \u001b[0mX_train\u001b[0m\u001b[0;34m,\u001b[0m \u001b[0mX_temp\u001b[0m\u001b[0;34m,\u001b[0m \u001b[0my_train\u001b[0m\u001b[0;34m,\u001b[0m \u001b[0my_temp\u001b[0m \u001b[0;34m=\u001b[0m \u001b[0mtrain_test_split\u001b[0m\u001b[0;34m(\u001b[0m\u001b[0mx\u001b[0m\u001b[0;34m,\u001b[0m \u001b[0my\u001b[0m\u001b[0;34m,\u001b[0m \u001b[0mtest_size\u001b[0m\u001b[0;34m=\u001b[0m\u001b[0;36m0.2\u001b[0m\u001b[0;34m,\u001b[0m \u001b[0mrandom_state\u001b[0m\u001b[0;34m=\u001b[0m\u001b[0;36m42\u001b[0m\u001b[0;34m)\u001b[0m\u001b[0;34m\u001b[0m\u001b[0;34m\u001b[0m\u001b[0m\n\u001b[0m\u001b[1;32m      5\u001b[0m \u001b[0;34m\u001b[0m\u001b[0m\n\u001b[1;32m      6\u001b[0m \u001b[0;31m# Splitting temp set into validation and test sets\u001b[0m\u001b[0;34m\u001b[0m\u001b[0;34m\u001b[0m\u001b[0m\n",
            "\u001b[0;32m/usr/local/lib/python3.10/dist-packages/sklearn/model_selection/_split.py\u001b[0m in \u001b[0;36mtrain_test_split\u001b[0;34m(test_size, train_size, random_state, shuffle, stratify, *arrays)\u001b[0m\n\u001b[1;32m   2583\u001b[0m         \u001b[0mtrain\u001b[0m\u001b[0;34m,\u001b[0m \u001b[0mtest\u001b[0m \u001b[0;34m=\u001b[0m \u001b[0mnext\u001b[0m\u001b[0;34m(\u001b[0m\u001b[0mcv\u001b[0m\u001b[0;34m.\u001b[0m\u001b[0msplit\u001b[0m\u001b[0;34m(\u001b[0m\u001b[0mX\u001b[0m\u001b[0;34m=\u001b[0m\u001b[0marrays\u001b[0m\u001b[0;34m[\u001b[0m\u001b[0;36m0\u001b[0m\u001b[0;34m]\u001b[0m\u001b[0;34m,\u001b[0m \u001b[0my\u001b[0m\u001b[0;34m=\u001b[0m\u001b[0mstratify\u001b[0m\u001b[0;34m)\u001b[0m\u001b[0;34m)\u001b[0m\u001b[0;34m\u001b[0m\u001b[0;34m\u001b[0m\u001b[0m\n\u001b[1;32m   2584\u001b[0m \u001b[0;34m\u001b[0m\u001b[0m\n\u001b[0;32m-> 2585\u001b[0;31m     return list(\n\u001b[0m\u001b[1;32m   2586\u001b[0m         chain.from_iterable(\n\u001b[1;32m   2587\u001b[0m             \u001b[0;34m(\u001b[0m\u001b[0m_safe_indexing\u001b[0m\u001b[0;34m(\u001b[0m\u001b[0ma\u001b[0m\u001b[0;34m,\u001b[0m \u001b[0mtrain\u001b[0m\u001b[0;34m)\u001b[0m\u001b[0;34m,\u001b[0m \u001b[0m_safe_indexing\u001b[0m\u001b[0;34m(\u001b[0m\u001b[0ma\u001b[0m\u001b[0;34m,\u001b[0m \u001b[0mtest\u001b[0m\u001b[0;34m)\u001b[0m\u001b[0;34m)\u001b[0m \u001b[0;32mfor\u001b[0m \u001b[0ma\u001b[0m \u001b[0;32min\u001b[0m \u001b[0marrays\u001b[0m\u001b[0;34m\u001b[0m\u001b[0;34m\u001b[0m\u001b[0m\n",
            "\u001b[0;32m/usr/local/lib/python3.10/dist-packages/sklearn/model_selection/_split.py\u001b[0m in \u001b[0;36m<genexpr>\u001b[0;34m(.0)\u001b[0m\n\u001b[1;32m   2585\u001b[0m     return list(\n\u001b[1;32m   2586\u001b[0m         chain.from_iterable(\n\u001b[0;32m-> 2587\u001b[0;31m             \u001b[0;34m(\u001b[0m\u001b[0m_safe_indexing\u001b[0m\u001b[0;34m(\u001b[0m\u001b[0ma\u001b[0m\u001b[0;34m,\u001b[0m \u001b[0mtrain\u001b[0m\u001b[0;34m)\u001b[0m\u001b[0;34m,\u001b[0m \u001b[0m_safe_indexing\u001b[0m\u001b[0;34m(\u001b[0m\u001b[0ma\u001b[0m\u001b[0;34m,\u001b[0m \u001b[0mtest\u001b[0m\u001b[0;34m)\u001b[0m\u001b[0;34m)\u001b[0m \u001b[0;32mfor\u001b[0m \u001b[0ma\u001b[0m \u001b[0;32min\u001b[0m \u001b[0marrays\u001b[0m\u001b[0;34m\u001b[0m\u001b[0;34m\u001b[0m\u001b[0m\n\u001b[0m\u001b[1;32m   2588\u001b[0m         )\n\u001b[1;32m   2589\u001b[0m     )\n",
            "\u001b[0;32m/usr/local/lib/python3.10/dist-packages/sklearn/utils/__init__.py\u001b[0m in \u001b[0;36m_safe_indexing\u001b[0;34m(X, indices, axis)\u001b[0m\n\u001b[1;32m    354\u001b[0m         \u001b[0;32mreturn\u001b[0m \u001b[0m_pandas_indexing\u001b[0m\u001b[0;34m(\u001b[0m\u001b[0mX\u001b[0m\u001b[0;34m,\u001b[0m \u001b[0mindices\u001b[0m\u001b[0;34m,\u001b[0m \u001b[0mindices_dtype\u001b[0m\u001b[0;34m,\u001b[0m \u001b[0maxis\u001b[0m\u001b[0;34m=\u001b[0m\u001b[0maxis\u001b[0m\u001b[0;34m)\u001b[0m\u001b[0;34m\u001b[0m\u001b[0;34m\u001b[0m\u001b[0m\n\u001b[1;32m    355\u001b[0m     \u001b[0;32melif\u001b[0m \u001b[0mhasattr\u001b[0m\u001b[0;34m(\u001b[0m\u001b[0mX\u001b[0m\u001b[0;34m,\u001b[0m \u001b[0;34m\"shape\"\u001b[0m\u001b[0;34m)\u001b[0m\u001b[0;34m:\u001b[0m\u001b[0;34m\u001b[0m\u001b[0;34m\u001b[0m\u001b[0m\n\u001b[0;32m--> 356\u001b[0;31m         \u001b[0;32mreturn\u001b[0m \u001b[0m_array_indexing\u001b[0m\u001b[0;34m(\u001b[0m\u001b[0mX\u001b[0m\u001b[0;34m,\u001b[0m \u001b[0mindices\u001b[0m\u001b[0;34m,\u001b[0m \u001b[0mindices_dtype\u001b[0m\u001b[0;34m,\u001b[0m \u001b[0maxis\u001b[0m\u001b[0;34m=\u001b[0m\u001b[0maxis\u001b[0m\u001b[0;34m)\u001b[0m\u001b[0;34m\u001b[0m\u001b[0;34m\u001b[0m\u001b[0m\n\u001b[0m\u001b[1;32m    357\u001b[0m     \u001b[0;32melse\u001b[0m\u001b[0;34m:\u001b[0m\u001b[0;34m\u001b[0m\u001b[0;34m\u001b[0m\u001b[0m\n\u001b[1;32m    358\u001b[0m         \u001b[0;32mreturn\u001b[0m \u001b[0m_list_indexing\u001b[0m\u001b[0;34m(\u001b[0m\u001b[0mX\u001b[0m\u001b[0;34m,\u001b[0m \u001b[0mindices\u001b[0m\u001b[0;34m,\u001b[0m \u001b[0mindices_dtype\u001b[0m\u001b[0;34m)\u001b[0m\u001b[0;34m\u001b[0m\u001b[0;34m\u001b[0m\u001b[0m\n",
            "\u001b[0;32m/usr/local/lib/python3.10/dist-packages/sklearn/utils/__init__.py\u001b[0m in \u001b[0;36m_array_indexing\u001b[0;34m(array, key, key_dtype, axis)\u001b[0m\n\u001b[1;32m    183\u001b[0m     \u001b[0;32mif\u001b[0m \u001b[0misinstance\u001b[0m\u001b[0;34m(\u001b[0m\u001b[0mkey\u001b[0m\u001b[0;34m,\u001b[0m \u001b[0mtuple\u001b[0m\u001b[0;34m)\u001b[0m\u001b[0;34m:\u001b[0m\u001b[0;34m\u001b[0m\u001b[0;34m\u001b[0m\u001b[0m\n\u001b[1;32m    184\u001b[0m         \u001b[0mkey\u001b[0m \u001b[0;34m=\u001b[0m \u001b[0mlist\u001b[0m\u001b[0;34m(\u001b[0m\u001b[0mkey\u001b[0m\u001b[0;34m)\u001b[0m\u001b[0;34m\u001b[0m\u001b[0;34m\u001b[0m\u001b[0m\n\u001b[0;32m--> 185\u001b[0;31m     \u001b[0;32mreturn\u001b[0m \u001b[0marray\u001b[0m\u001b[0;34m[\u001b[0m\u001b[0mkey\u001b[0m\u001b[0;34m]\u001b[0m \u001b[0;32mif\u001b[0m \u001b[0maxis\u001b[0m \u001b[0;34m==\u001b[0m \u001b[0;36m0\u001b[0m \u001b[0;32melse\u001b[0m \u001b[0marray\u001b[0m\u001b[0;34m[\u001b[0m\u001b[0;34m:\u001b[0m\u001b[0;34m,\u001b[0m \u001b[0mkey\u001b[0m\u001b[0;34m]\u001b[0m\u001b[0;34m\u001b[0m\u001b[0;34m\u001b[0m\u001b[0m\n\u001b[0m\u001b[1;32m    186\u001b[0m \u001b[0;34m\u001b[0m\u001b[0m\n\u001b[1;32m    187\u001b[0m \u001b[0;34m\u001b[0m\u001b[0m\n",
            "\u001b[0;32m/usr/local/lib/python3.10/dist-packages/tensorflow/python/util/traceback_utils.py\u001b[0m in \u001b[0;36merror_handler\u001b[0;34m(*args, **kwargs)\u001b[0m\n\u001b[1;32m    151\u001b[0m     \u001b[0;32mexcept\u001b[0m \u001b[0mException\u001b[0m \u001b[0;32mas\u001b[0m \u001b[0me\u001b[0m\u001b[0;34m:\u001b[0m\u001b[0;34m\u001b[0m\u001b[0;34m\u001b[0m\u001b[0m\n\u001b[1;32m    152\u001b[0m       \u001b[0mfiltered_tb\u001b[0m \u001b[0;34m=\u001b[0m \u001b[0m_process_traceback_frames\u001b[0m\u001b[0;34m(\u001b[0m\u001b[0me\u001b[0m\u001b[0;34m.\u001b[0m\u001b[0m__traceback__\u001b[0m\u001b[0;34m)\u001b[0m\u001b[0;34m\u001b[0m\u001b[0;34m\u001b[0m\u001b[0m\n\u001b[0;32m--> 153\u001b[0;31m       \u001b[0;32mraise\u001b[0m \u001b[0me\u001b[0m\u001b[0;34m.\u001b[0m\u001b[0mwith_traceback\u001b[0m\u001b[0;34m(\u001b[0m\u001b[0mfiltered_tb\u001b[0m\u001b[0;34m)\u001b[0m \u001b[0;32mfrom\u001b[0m \u001b[0;32mNone\u001b[0m\u001b[0;34m\u001b[0m\u001b[0;34m\u001b[0m\u001b[0m\n\u001b[0m\u001b[1;32m    154\u001b[0m     \u001b[0;32mfinally\u001b[0m\u001b[0;34m:\u001b[0m\u001b[0;34m\u001b[0m\u001b[0;34m\u001b[0m\u001b[0m\n\u001b[1;32m    155\u001b[0m       \u001b[0;32mdel\u001b[0m \u001b[0mfiltered_tb\u001b[0m\u001b[0;34m\u001b[0m\u001b[0;34m\u001b[0m\u001b[0m\n",
            "\u001b[0;32m/usr/local/lib/python3.10/dist-packages/tensorflow/python/ops/array_ops.py\u001b[0m in \u001b[0;36m_check_index\u001b[0;34m(idx)\u001b[0m\n\u001b[1;32m    968\u001b[0m     \u001b[0;31m# TODO(slebedev): IndexError seems more appropriate here, but it\u001b[0m\u001b[0;34m\u001b[0m\u001b[0;34m\u001b[0m\u001b[0m\n\u001b[1;32m    969\u001b[0m     \u001b[0;31m# will break `_slice_helper` contract.\u001b[0m\u001b[0;34m\u001b[0m\u001b[0;34m\u001b[0m\u001b[0m\n\u001b[0;32m--> 970\u001b[0;31m     \u001b[0;32mraise\u001b[0m \u001b[0mTypeError\u001b[0m\u001b[0;34m(\u001b[0m\u001b[0m_SLICE_TYPE_ERROR\u001b[0m \u001b[0;34m+\u001b[0m \u001b[0;34m\", got {!r}\"\u001b[0m\u001b[0;34m.\u001b[0m\u001b[0mformat\u001b[0m\u001b[0;34m(\u001b[0m\u001b[0midx\u001b[0m\u001b[0;34m)\u001b[0m\u001b[0;34m)\u001b[0m\u001b[0;34m\u001b[0m\u001b[0;34m\u001b[0m\u001b[0m\n\u001b[0m\u001b[1;32m    971\u001b[0m \u001b[0;34m\u001b[0m\u001b[0m\n\u001b[1;32m    972\u001b[0m \u001b[0;34m\u001b[0m\u001b[0m\n",
            "\u001b[0;31mTypeError\u001b[0m: Only integers, slices (`:`), ellipsis (`...`), tf.newaxis (`None`) and scalar tf.int32/tf.int64 tensors are valid indices, got array([55, 88, 26, 42, 69, 15, 40, 96,  9, 72, 11, 47, 85, 28, 93,  5, 66,\n       65, 35, 16, 49, 34,  7, 95, 27, 19, 81, 25, 62, 13, 24,  3, 17, 38,\n        8, 78,  6, 64, 36, 89, 56, 99, 54, 43, 50, 67, 46, 68, 61, 97, 79,\n       41, 58, 48, 98, 57, 75, 32, 94, 59, 63, 84, 37, 29,  1, 52, 21,  2,\n       23, 87, 91, 74, 86, 82, 20, 60, 71, 14, 92, 51])"
          ]
        }
      ]
    },
    {
      "cell_type": "markdown",
      "source": [
        "`train_test_split` does not work on tensors it expects numpyarray or list only"
      ],
      "metadata": {
        "id": "jl1cBHVPkjmo"
      }
    },
    {
      "cell_type": "code",
      "source": [
        "x_numpy = x.numpy()\n",
        "y_numpy = y.numpy()"
      ],
      "metadata": {
        "id": "kN6Hc0k8j_yJ"
      },
      "execution_count": 19,
      "outputs": []
    },
    {
      "cell_type": "code",
      "source": [
        "from sklearn.model_selection import train_test_split\n",
        "\n",
        "# Splitting data into train and temp sets\n",
        "X_train, X_temp, y_train, y_temp = train_test_split(x_numpy, y_numpy, test_size=0.2, random_state=42)\n",
        "\n",
        "# Splitting temp set into validation and test sets\n",
        "X_test, X_val, y_test, y_val = train_test_split(X_temp, y_temp, test_size=0.5, random_state=42)"
      ],
      "metadata": {
        "id": "VfhD5O0Kk3rd"
      },
      "execution_count": 20,
      "outputs": []
    },
    {
      "cell_type": "code",
      "source": [
        "X_train.shape , X_test.shape , X_val.shape , y_train.shape,y_test.shape,y_val.shape"
      ],
      "metadata": {
        "colab": {
          "base_uri": "https://localhost:8080/"
        },
        "id": "So9lev_yk8ij",
        "outputId": "3aea9034-3bb3-4605-ac67-185902a1ca5e"
      },
      "execution_count": 21,
      "outputs": [
        {
          "output_type": "execute_result",
          "data": {
            "text/plain": [
              "((80,), (10,), (10,), (80,), (10,), (10,))"
            ]
          },
          "metadata": {},
          "execution_count": 21
        }
      ]
    },
    {
      "cell_type": "code",
      "source": [
        "plt.figure(figsize=(10,7))\n",
        "plt.scatter(X_train , y_train,c='blue',label = 'training data')\n",
        "plt.scatter(X_test , y_test,c='green',label = 'testing data')\n",
        "plt.scatter(X_val , y_val,c='red',label = 'validation data')\n",
        "plt.legend();"
      ],
      "metadata": {
        "colab": {
          "base_uri": "https://localhost:8080/",
          "height": 599
        },
        "id": "rq8ZC5gCnK_8",
        "outputId": "1fbf3bab-1538-4be4-bb7f-15f98a815753"
      },
      "execution_count": 22,
      "outputs": [
        {
          "output_type": "display_data",
          "data": {
            "text/plain": [
              "<Figure size 1000x700 with 1 Axes>"
            ],
            "image/png": "[encoded data removed]"
          },
          "metadata": {}
        }
      ]
    },
    {
      "cell_type": "markdown",
      "source": [
        "### BUILDING MODEL, EVALUATING AND TESTING ON SETS CREATED"
      ],
      "metadata": {
        "id": "m54alhcDoQtX"
      }
    },
    {
      "cell_type": "code",
      "source": [
        "#creating a model\n",
        "model = tf.keras.Sequential([\n",
        "    tf.keras.layers.Dense(1),\n",
        "])\n",
        "\n",
        "model.compile(loss='mae',optimizer=tf.keras.optimizers.SGD(),metrics=['mae'])\n",
        "\n",
        "model.fit(tf.expand_dims(X_train,axis=-1),y_train,epochs=100)"
      ],
      "metadata": {
        "colab": {
          "base_uri": "https://localhost:8080/"
        },
        "id": "IV9dAMz1nySM",
        "outputId": "cbeabe61-9fcc-4b74-94c8-a75198e773a1"
      },
      "execution_count": 23,
      "outputs": [
        {
          "output_type": "stream",
          "name": "stdout",
          "text": [
            "Epoch 1/100\n",
            "3/3 [==============================] - 1s 32ms/step - loss: 287.7420 - mae: 287.7420\n",
            "Epoch 2/100\n",
            "3/3 [==============================] - 0s 24ms/step - loss: 332.0749 - mae: 332.0749\n",
            "Epoch 3/100\n",
            "3/3 [==============================] - 0s 12ms/step - loss: 282.3604 - mae: 282.3604\n",
            "Epoch 4/100\n",
            "3/3 [==============================] - 0s 9ms/step - loss: 327.0634 - mae: 327.0634\n",
            "Epoch 5/100\n",
            "3/3 [==============================] - 0s 9ms/step - loss: 263.0904 - mae: 263.0904\n",
            "Epoch 6/100\n",
            "3/3 [==============================] - 0s 9ms/step - loss: 362.5732 - mae: 362.5732\n",
            "Epoch 7/100\n",
            "3/3 [==============================] - 0s 10ms/step - loss: 288.4837 - mae: 288.4837\n",
            "Epoch 8/100\n",
            "3/3 [==============================] - 0s 10ms/step - loss: 329.5956 - mae: 329.5956\n",
            "Epoch 9/100\n",
            "3/3 [==============================] - 0s 14ms/step - loss: 254.4869 - mae: 254.4869\n",
            "Epoch 10/100\n",
            "3/3 [==============================] - 0s 8ms/step - loss: 383.4118 - mae: 383.4118\n",
            "Epoch 11/100\n",
            "3/3 [==============================] - 0s 19ms/step - loss: 249.4022 - mae: 249.4022\n",
            "Epoch 12/100\n",
            "3/3 [==============================] - 0s 9ms/step - loss: 361.3318 - mae: 361.3318\n",
            "Epoch 13/100\n",
            "3/3 [==============================] - 0s 8ms/step - loss: 292.2165 - mae: 292.2165\n",
            "Epoch 14/100\n",
            "3/3 [==============================] - 0s 7ms/step - loss: 325.0067 - mae: 325.0067\n",
            "Epoch 15/100\n",
            "3/3 [==============================] - 0s 8ms/step - loss: 295.3269 - mae: 295.3269\n",
            "Epoch 16/100\n",
            "3/3 [==============================] - 0s 8ms/step - loss: 294.5892 - mae: 294.5892\n",
            "Epoch 17/100\n",
            "3/3 [==============================] - 0s 8ms/step - loss: 323.2335 - mae: 323.2335\n",
            "Epoch 18/100\n",
            "3/3 [==============================] - 0s 13ms/step - loss: 262.2519 - mae: 262.2519\n",
            "Epoch 19/100\n",
            "3/3 [==============================] - 0s 7ms/step - loss: 351.6632 - mae: 351.6632\n",
            "Epoch 20/100\n",
            "3/3 [==============================] - 0s 7ms/step - loss: 259.7925 - mae: 259.7925\n",
            "Epoch 21/100\n",
            "3/3 [==============================] - 0s 16ms/step - loss: 352.6689 - mae: 352.6689\n",
            "Epoch 22/100\n",
            "3/3 [==============================] - 0s 10ms/step - loss: 255.0362 - mae: 255.0362\n",
            "Epoch 23/100\n",
            "3/3 [==============================] - 0s 17ms/step - loss: 368.3315 - mae: 368.3315\n",
            "Epoch 24/100\n",
            "3/3 [==============================] - 0s 16ms/step - loss: 248.6586 - mae: 248.6586\n",
            "Epoch 25/100\n",
            "3/3 [==============================] - 0s 13ms/step - loss: 372.2739 - mae: 372.2739\n",
            "Epoch 26/100\n",
            "3/3 [==============================] - 0s 8ms/step - loss: 297.8119 - mae: 297.8119\n",
            "Epoch 27/100\n",
            "3/3 [==============================] - 0s 12ms/step - loss: 308.9589 - mae: 308.9589\n",
            "Epoch 28/100\n",
            "3/3 [==============================] - 0s 9ms/step - loss: 291.5815 - mae: 291.5815\n",
            "Epoch 29/100\n",
            "3/3 [==============================] - 0s 8ms/step - loss: 309.3550 - mae: 309.3550\n",
            "Epoch 30/100\n",
            "3/3 [==============================] - 0s 15ms/step - loss: 324.0482 - mae: 324.0482\n",
            "Epoch 31/100\n",
            "3/3 [==============================] - 0s 9ms/step - loss: 273.8625 - mae: 273.8625\n",
            "Epoch 32/100\n",
            "3/3 [==============================] - 0s 9ms/step - loss: 350.2035 - mae: 350.2035\n",
            "Epoch 33/100\n",
            "3/3 [==============================] - 0s 8ms/step - loss: 260.8700 - mae: 260.8700\n",
            "Epoch 34/100\n",
            "3/3 [==============================] - 0s 11ms/step - loss: 304.1984 - mae: 304.1984\n",
            "Epoch 35/100\n",
            "3/3 [==============================] - 0s 8ms/step - loss: 327.5292 - mae: 327.5292\n",
            "Epoch 36/100\n",
            "3/3 [==============================] - 0s 8ms/step - loss: 292.5758 - mae: 292.5758\n",
            "Epoch 37/100\n",
            "3/3 [==============================] - 0s 11ms/step - loss: 300.7542 - mae: 300.7542\n",
            "Epoch 38/100\n",
            "3/3 [==============================] - 0s 14ms/step - loss: 279.7298 - mae: 279.7298\n",
            "Epoch 39/100\n",
            "3/3 [==============================] - 0s 9ms/step - loss: 335.3468 - mae: 335.3468\n",
            "Epoch 40/100\n",
            "3/3 [==============================] - 0s 8ms/step - loss: 279.8762 - mae: 279.8762\n",
            "Epoch 41/100\n",
            "3/3 [==============================] - 0s 15ms/step - loss: 332.0189 - mae: 332.0189\n",
            "Epoch 42/100\n",
            "3/3 [==============================] - 0s 11ms/step - loss: 260.4077 - mae: 260.4077\n",
            "Epoch 43/100\n",
            "3/3 [==============================] - 0s 8ms/step - loss: 368.8939 - mae: 368.8939\n",
            "Epoch 44/100\n",
            "3/3 [==============================] - 0s 8ms/step - loss: 289.3667 - mae: 289.3667\n",
            "Epoch 45/100\n",
            "3/3 [==============================] - 0s 10ms/step - loss: 309.0717 - mae: 309.0717\n",
            "Epoch 46/100\n",
            "3/3 [==============================] - 0s 8ms/step - loss: 268.0923 - mae: 268.0923\n",
            "Epoch 47/100\n",
            "3/3 [==============================] - 0s 9ms/step - loss: 348.5292 - mae: 348.5292\n",
            "Epoch 48/100\n",
            "3/3 [==============================] - 0s 8ms/step - loss: 257.7658 - mae: 257.7658\n",
            "Epoch 49/100\n",
            "3/3 [==============================] - 0s 9ms/step - loss: 341.7208 - mae: 341.7208\n",
            "Epoch 50/100\n",
            "3/3 [==============================] - 0s 8ms/step - loss: 266.9791 - mae: 266.9791\n",
            "Epoch 51/100\n",
            "3/3 [==============================] - 0s 7ms/step - loss: 349.3251 - mae: 349.3251\n",
            "Epoch 52/100\n",
            "3/3 [==============================] - 0s 17ms/step - loss: 264.2471 - mae: 264.2471\n",
            "Epoch 53/100\n",
            "3/3 [==============================] - 0s 11ms/step - loss: 334.5758 - mae: 334.5758\n",
            "Epoch 54/100\n",
            "3/3 [==============================] - 0s 9ms/step - loss: 273.4203 - mae: 273.4203\n",
            "Epoch 55/100\n",
            "3/3 [==============================] - 0s 7ms/step - loss: 349.3508 - mae: 349.3508\n",
            "Epoch 56/100\n",
            "3/3 [==============================] - 0s 7ms/step - loss: 305.9122 - mae: 305.9122\n",
            "Epoch 57/100\n",
            "3/3 [==============================] - 0s 8ms/step - loss: 271.0316 - mae: 271.0316\n",
            "Epoch 58/100\n",
            "3/3 [==============================] - 0s 14ms/step - loss: 350.0578 - mae: 350.0578\n",
            "Epoch 59/100\n",
            "3/3 [==============================] - 0s 12ms/step - loss: 251.8657 - mae: 251.8657\n",
            "Epoch 60/100\n",
            "3/3 [==============================] - 0s 13ms/step - loss: 388.5573 - mae: 388.5573\n",
            "Epoch 61/100\n",
            "3/3 [==============================] - 0s 10ms/step - loss: 254.3457 - mae: 254.3457\n",
            "Epoch 62/100\n",
            "3/3 [==============================] - 0s 8ms/step - loss: 390.2373 - mae: 390.2373\n",
            "Epoch 63/100\n",
            "3/3 [==============================] - 0s 8ms/step - loss: 277.7161 - mae: 277.7161\n",
            "Epoch 64/100\n",
            "3/3 [==============================] - 0s 10ms/step - loss: 320.7494 - mae: 320.7494\n",
            "Epoch 65/100\n",
            "3/3 [==============================] - 0s 10ms/step - loss: 244.5639 - mae: 244.5639\n",
            "Epoch 66/100\n",
            "3/3 [==============================] - 0s 9ms/step - loss: 389.4472 - mae: 389.4472\n",
            "Epoch 67/100\n",
            "3/3 [==============================] - 0s 14ms/step - loss: 282.5778 - mae: 282.5778\n",
            "Epoch 68/100\n",
            "3/3 [==============================] - 0s 13ms/step - loss: 325.6440 - mae: 325.6440\n",
            "Epoch 69/100\n",
            "3/3 [==============================] - 0s 23ms/step - loss: 294.6533 - mae: 294.6533\n",
            "Epoch 70/100\n",
            "3/3 [==============================] - 0s 13ms/step - loss: 306.1905 - mae: 306.1905\n",
            "Epoch 71/100\n",
            "3/3 [==============================] - 0s 20ms/step - loss: 320.9185 - mae: 320.9185\n",
            "Epoch 72/100\n",
            "3/3 [==============================] - 0s 22ms/step - loss: 288.6245 - mae: 288.6245\n",
            "Epoch 73/100\n",
            "3/3 [==============================] - 0s 26ms/step - loss: 338.4886 - mae: 338.4886\n",
            "Epoch 74/100\n",
            "3/3 [==============================] - 0s 14ms/step - loss: 286.4213 - mae: 286.4213\n",
            "Epoch 75/100\n",
            "3/3 [==============================] - 0s 16ms/step - loss: 320.0312 - mae: 320.0312\n",
            "Epoch 76/100\n",
            "3/3 [==============================] - 0s 22ms/step - loss: 278.0164 - mae: 278.0164\n",
            "Epoch 77/100\n",
            "3/3 [==============================] - 0s 31ms/step - loss: 350.8758 - mae: 350.8758\n",
            "Epoch 78/100\n",
            "3/3 [==============================] - 0s 17ms/step - loss: 284.4659 - mae: 284.4659\n",
            "Epoch 79/100\n",
            "3/3 [==============================] - 0s 17ms/step - loss: 335.4627 - mae: 335.4627\n",
            "Epoch 80/100\n",
            "3/3 [==============================] - 0s 14ms/step - loss: 317.7159 - mae: 317.7159\n",
            "Epoch 81/100\n",
            "3/3 [==============================] - 0s 10ms/step - loss: 265.4992 - mae: 265.4992\n",
            "Epoch 82/100\n",
            "3/3 [==============================] - 0s 7ms/step - loss: 356.9380 - mae: 356.9380\n",
            "Epoch 83/100\n",
            "3/3 [==============================] - 0s 7ms/step - loss: 237.5072 - mae: 237.5072\n",
            "Epoch 84/100\n",
            "3/3 [==============================] - 0s 8ms/step - loss: 423.0077 - mae: 423.0077\n",
            "Epoch 85/100\n",
            "3/3 [==============================] - 0s 9ms/step - loss: 243.1394 - mae: 243.1394\n",
            "Epoch 86/100\n",
            "3/3 [==============================] - 0s 8ms/step - loss: 386.1575 - mae: 386.1575\n",
            "Epoch 87/100\n",
            "3/3 [==============================] - 0s 8ms/step - loss: 297.3331 - mae: 297.3331\n",
            "Epoch 88/100\n",
            "3/3 [==============================] - 0s 11ms/step - loss: 303.8751 - mae: 303.8751\n",
            "Epoch 89/100\n",
            "3/3 [==============================] - 0s 8ms/step - loss: 334.9284 - mae: 334.9284\n",
            "Epoch 90/100\n",
            "3/3 [==============================] - 0s 8ms/step - loss: 324.4477 - mae: 324.4477\n",
            "Epoch 91/100\n",
            "3/3 [==============================] - 0s 7ms/step - loss: 278.7533 - mae: 278.7533\n",
            "Epoch 92/100\n",
            "3/3 [==============================] - 0s 9ms/step - loss: 344.1462 - mae: 344.1462\n",
            "Epoch 93/100\n",
            "3/3 [==============================] - 0s 7ms/step - loss: 277.7966 - mae: 277.7966\n",
            "Epoch 94/100\n",
            "3/3 [==============================] - 0s 7ms/step - loss: 339.0624 - mae: 339.0624\n",
            "Epoch 95/100\n",
            "3/3 [==============================] - 0s 7ms/step - loss: 294.2853 - mae: 294.2853\n",
            "Epoch 96/100\n",
            "3/3 [==============================] - 0s 7ms/step - loss: 302.2682 - mae: 302.2682\n",
            "Epoch 97/100\n",
            "3/3 [==============================] - 0s 11ms/step - loss: 278.6129 - mae: 278.6129\n",
            "Epoch 98/100\n",
            "3/3 [==============================] - 0s 7ms/step - loss: 376.9587 - mae: 376.9587\n",
            "Epoch 99/100\n",
            "3/3 [==============================] - 0s 9ms/step - loss: 282.5263 - mae: 282.5263\n",
            "Epoch 100/100\n",
            "3/3 [==============================] - 0s 10ms/step - loss: 318.6592 - mae: 318.6592\n"
          ]
        },
        {
          "output_type": "execute_result",
          "data": {
            "text/plain": [
              "<keras.src.callbacks.History at 0x7b38a6c80fa0>"
            ]
          },
          "metadata": {},
          "execution_count": 23
        }
      ]
    },
    {
      "cell_type": "code",
      "source": [
        "model.summary()"
      ],
      "metadata": {
        "colab": {
          "base_uri": "https://localhost:8080/"
        },
        "id": "ItzRkX5yqBv8",
        "outputId": "349706b4-bb08-4865-e048-5e00c854584a"
      },
      "execution_count": 24,
      "outputs": [
        {
          "output_type": "stream",
          "name": "stdout",
          "text": [
            "Model: \"sequential_2\"\n",
            "_________________________________________________________________\n",
            " Layer (type)                Output Shape              Param #   \n",
            "=================================================================\n",
            " dense_3 (Dense)             (None, 1)                 2         \n",
            "                                                                 \n",
            "=================================================================\n",
            "Total params: 2 (8.00 Byte)\n",
            "Trainable params: 2 (8.00 Byte)\n",
            "Non-trainable params: 0 (0.00 Byte)\n",
            "_________________________________________________________________\n"
          ]
        }
      ]
    },
    {
      "cell_type": "markdown",
      "source": [
        "1. `total parameter` - number of parameters in model\n",
        "2. `trainable parameters` - number of parameters that model can update when it trains\n",
        "3. `non trainable params` - parameters aren't updated during training (typically when bringing already learn patterns or parameters from other model **transfer learning**)"
      ],
      "metadata": {
        "id": "ddQRhyATrmwo"
      }
    },
    {
      "cell_type": "code",
      "source": [
        "#Creating a model which build automatically by defining the input_shape argument in the first layer\n",
        "tf.random.set_seed= 42\n",
        "model  =  tf.keras.Sequential([\n",
        "    tf.keras.layers.Dense(10,input_shape=[1],name=\"input_layer\") , #here 1 means we are having 1 feature and we are predicting the single output\n",
        "    ])\n",
        "\n",
        "model.compile(loss=tf.keras.losses.mae,\n",
        "              optimizer= tf.keras.optimizers.SGD(),\n",
        "              metrics=[\"mae\"])"
      ],
      "metadata": {
        "id": "qDc2wG76q1QC"
      },
      "execution_count": 50,
      "outputs": []
    },
    {
      "cell_type": "code",
      "source": [
        "model.summary()"
      ],
      "metadata": {
        "colab": {
          "base_uri": "https://localhost:8080/"
        },
        "id": "J81WnUw4OWWL",
        "outputId": "4ebbf48e-14dc-46be-b0fc-e34be1d87cb9"
      },
      "execution_count": 51,
      "outputs": [
        {
          "output_type": "stream",
          "name": "stdout",
          "text": [
            "Model: \"sequential_8\"\n",
            "_________________________________________________________________\n",
            " Layer (type)                Output Shape              Param #   \n",
            "=================================================================\n",
            " input_layer (Dense)         (None, 10)                20        \n",
            "                                                                 \n",
            "=================================================================\n",
            "Total params: 20 (80.00 Byte)\n",
            "Trainable params: 20 (80.00 Byte)\n",
            "Non-trainable params: 0 (0.00 Byte)\n",
            "_________________________________________________________________\n"
          ]
        }
      ]
    },
    {
      "cell_type": "code",
      "source": [
        "model.fit(tf.expand_dims(X_train,axis=-1),y_train,epochs=100,verbose=0)"
      ],
      "metadata": {
        "colab": {
          "base_uri": "https://localhost:8080/"
        },
        "id": "d56ma_FwOk7q",
        "outputId": "e4ee1fde-dca9-48e8-891a-59b1e4e11e72"
      },
      "execution_count": 52,
      "outputs": [
        {
          "output_type": "execute_result",
          "data": {
            "text/plain": [
              "<keras.src.callbacks.History at 0x7b38946ebc40>"
            ]
          },
          "metadata": {},
          "execution_count": 52
        }
      ]
    },
    {
      "cell_type": "markdown",
      "source": [
        "### ANOTHER WAY TO VISUALIZE THE MODEL(DIFFERENT LAYERS OF THE MODEL)\n",
        "\n",
        "using the plot model function"
      ],
      "metadata": {
        "id": "hd-vo5CnPjvv"
      }
    },
    {
      "cell_type": "code",
      "source": [
        "from tensorflow.keras.utils import plot_model\n",
        "plot_model(model=model,show_shapes=True)"
      ],
      "metadata": {
        "colab": {
          "base_uri": "https://localhost:8080/",
          "height": 201
        },
        "id": "wxFi-8T6PTny",
        "outputId": "69043d72-ab9a-4e96-90b1-436db9478564"
      },
      "execution_count": 53,
      "outputs": [
        {
          "output_type": "execute_result",
          "data": {
            "image/png": "[encoded data removed]",
            "text/plain": [
              "<IPython.core.display.Image object>"
            ]
          },
          "metadata": {},
          "execution_count": 53
        }
      ]
    },
    {
      "cell_type": "markdown",
      "source": [
        "#### VISUALIZING MODEL'S PREDICTION\n",
        "\n",
        "Often y_true/y_test VS y_pred is plotted"
      ],
      "metadata": {
        "id": "5cS2sp_LRL0H"
      }
    },
    {
      "cell_type": "code",
      "source": [
        "# making some prediction\n",
        "y_pred = model.predict(X_test)"
      ],
      "metadata": {
        "colab": {
          "base_uri": "https://localhost:8080/"
        },
        "id": "8Cd1C0rcQEhG",
        "outputId": "f8b64ed1-06c2-457c-d158-cc323cb54361"
      },
      "execution_count": 54,
      "outputs": [
        {
          "output_type": "stream",
          "name": "stdout",
          "text": [
            "1/1 [==============================] - 0s 50ms/step\n"
          ]
        }
      ]
    },
    {
      "cell_type": "code",
      "source": [
        "y_pred"
      ],
      "metadata": {
        "colab": {
          "base_uri": "https://localhost:8080/"
        },
        "id": "WPMcOh3HR2rz",
        "outputId": "0c0cfa0d-0a2a-4f7e-ccf8-de0006a64ed1"
      },
      "execution_count": 55,
      "outputs": [
        {
          "output_type": "execute_result",
          "data": {
            "text/plain": [
              "array([[-176.71652 , -188.10362 , -179.6695  , -161.36188 , -184.42534 ,\n",
              "        -153.06621 , -179.5636  , -183.34859 , -188.14795 , -179.68637 ],\n",
              "       [ 207.94572 ,  221.35036 ,  211.4304  ,  189.89696 ,  217.02881 ,\n",
              "         180.12195 ,  211.31563 ,  215.76271 ,  221.39786 ,  211.45844 ],\n",
              "       [-519.79364 , -553.2923  , -528.4883  , -474.6468  , -542.47906 ,\n",
              "        -450.234   , -528.1856  , -539.31274 , -553.4185  , -528.5452  ],\n",
              "       [-197.50906 , -210.23627 , -200.81003 , -180.34885 , -206.12556 ,\n",
              "        -171.07637 , -200.69221 , -204.92218 , -210.28555 , -200.82933 ],\n",
              "       [ -62.35747 ,  -66.37407 ,  -63.39654 ,  -56.93358 ,  -65.07411 ,\n",
              "         -54.01026 ,  -63.356255,  -64.69387 ,  -66.39108 ,  -63.400074],\n",
              "       [ 239.13455 ,  254.54932 ,  243.1412  ,  218.3774  ,  249.57915 ,\n",
              "         207.1372  ,  243.00853 ,  248.1231  ,  254.60426 ,  243.17287 ],\n",
              "       [ 311.9085  ,  332.01358 ,  317.1331  ,  284.8318  ,  325.52994 ,\n",
              "         270.17282 ,  316.95868 ,  323.63065 ,  332.08594 ,  317.17325 ],\n",
              "       [-332.66064 , -354.09848 , -338.2235  , -303.76413 , -347.17706 ,\n",
              "        -288.14246 , -338.02814 , -345.15045 , -354.18002 , -338.25858 ],\n",
              "       [ 415.87128 ,  442.67682 ,  422.83575 ,  379.7666  ,  434.03104 ,\n",
              "         360.22366 ,  422.6017  ,  431.49857 ,  442.774   ,  422.88806 ],\n",
              "       [-291.07553 , -309.8332  , -295.94244 , -265.7902  , -303.7766  ,\n",
              "        -252.12213 , -295.77094 , -302.0033  , -309.9048  , -295.97266 ]],\n",
              "      dtype=float32)"
            ]
          },
          "metadata": {},
          "execution_count": 55
        }
      ]
    },
    {
      "cell_type": "code",
      "source": [
        "# creating a plotting function (for further use)\n",
        "def plot_predictions(train_data=X_train,\n",
        "                     train_labels=y_train,\n",
        "                     test_data=X_test,\n",
        "                     test_labels=y_test,\n",
        "                     predictions=y_pred):\n",
        "\n",
        "    \"\"\"\n",
        "    Plotting training data , test_data and compares to ground truth labels\n",
        "    \"\"\"\n",
        "    plt.figure(figsize=(10,7))\n",
        "    plt.scatter(train_data,train_labels , c='b',label='Training data')\n",
        "    plt.scatter(test_data,test_labels,c=\"g\",label=\"Testing data\")\n",
        "    plt.scatter(test_data,predictions,c=\"r\",label=\"Predictions\")\n",
        "    plt.legend()"
      ],
      "metadata": {
        "id": "wvFmHiDqSBlc"
      },
      "execution_count": 59,
      "outputs": []
    },
    {
      "cell_type": "code",
      "source": [
        "plot_predictions(train_data=X_train,\n",
        "                 train_labels = y_train,\n",
        "                 test_data=X_test,\n",
        "                 test_labels=y_test,\n",
        "                 predictions=y_pred)"
      ],
      "metadata": {
        "colab": {
          "base_uri": "https://localhost:8080/",
          "height": 1000
        },
        "id": "eBt5pD0PSzLJ",
        "outputId": "7a9c7ae2-ae42-4ec9-94f9-149de3b304bb"
      },
      "execution_count": 61,
      "outputs": [
        {
          "output_type": "error",
          "ename": "ValueError",
          "evalue": "ignored",
          "traceback": [
            "\u001b[0;31m---------------------------------------------------------------------------\u001b[0m",
            "\u001b[0;31mValueError\u001b[0m                                Traceback (most recent call last)",
            "\u001b[0;32m<ipython-input-61-1ab67581e5af>\u001b[0m in \u001b[0;36m<cell line: 1>\u001b[0;34m()\u001b[0m\n\u001b[0;32m----> 1\u001b[0;31m plot_predictions(train_data=X_train,\n\u001b[0m\u001b[1;32m      2\u001b[0m                  \u001b[0mtrain_labels\u001b[0m \u001b[0;34m=\u001b[0m \u001b[0my_train\u001b[0m\u001b[0;34m,\u001b[0m\u001b[0;34m\u001b[0m\u001b[0;34m\u001b[0m\u001b[0m\n\u001b[1;32m      3\u001b[0m                  \u001b[0mtest_data\u001b[0m\u001b[0;34m=\u001b[0m\u001b[0mX_test\u001b[0m\u001b[0;34m,\u001b[0m\u001b[0;34m\u001b[0m\u001b[0;34m\u001b[0m\u001b[0m\n\u001b[1;32m      4\u001b[0m                  \u001b[0mtest_labels\u001b[0m\u001b[0;34m=\u001b[0m\u001b[0my_test\u001b[0m\u001b[0;34m,\u001b[0m\u001b[0;34m\u001b[0m\u001b[0;34m\u001b[0m\u001b[0m\n\u001b[1;32m      5\u001b[0m                  predictions=y_pred)\n",
            "\u001b[0;32m<ipython-input-59-5670500e3c37>\u001b[0m in \u001b[0;36mplot_predictions\u001b[0;34m(train_data, train_labels, test_data, test_labels, predictions)\u001b[0m\n\u001b[1;32m     12\u001b[0m     \u001b[0mplt\u001b[0m\u001b[0;34m.\u001b[0m\u001b[0mscatter\u001b[0m\u001b[0;34m(\u001b[0m\u001b[0mtrain_data\u001b[0m\u001b[0;34m,\u001b[0m\u001b[0mtrain_labels\u001b[0m \u001b[0;34m,\u001b[0m \u001b[0mc\u001b[0m\u001b[0;34m=\u001b[0m\u001b[0;34m'b'\u001b[0m\u001b[0;34m,\u001b[0m\u001b[0mlabel\u001b[0m\u001b[0;34m=\u001b[0m\u001b[0;34m'Training data'\u001b[0m\u001b[0;34m)\u001b[0m\u001b[0;34m\u001b[0m\u001b[0;34m\u001b[0m\u001b[0m\n\u001b[1;32m     13\u001b[0m     \u001b[0mplt\u001b[0m\u001b[0;34m.\u001b[0m\u001b[0mscatter\u001b[0m\u001b[0;34m(\u001b[0m\u001b[0mtest_data\u001b[0m\u001b[0;34m,\u001b[0m\u001b[0mtest_labels\u001b[0m\u001b[0;34m,\u001b[0m\u001b[0mc\u001b[0m\u001b[0;34m=\u001b[0m\u001b[0;34m\"g\"\u001b[0m\u001b[0;34m,\u001b[0m\u001b[0mlabel\u001b[0m\u001b[0;34m=\u001b[0m\u001b[0;34m\"Testing data\"\u001b[0m\u001b[0;34m)\u001b[0m\u001b[0;34m\u001b[0m\u001b[0;34m\u001b[0m\u001b[0m\n\u001b[0;32m---> 14\u001b[0;31m     \u001b[0mplt\u001b[0m\u001b[0;34m.\u001b[0m\u001b[0mscatter\u001b[0m\u001b[0;34m(\u001b[0m\u001b[0mtest_data\u001b[0m\u001b[0;34m,\u001b[0m\u001b[0mpredictions\u001b[0m\u001b[0;34m,\u001b[0m\u001b[0mc\u001b[0m\u001b[0;34m=\u001b[0m\u001b[0;34m\"r\"\u001b[0m\u001b[0;34m,\u001b[0m\u001b[0mlabel\u001b[0m\u001b[0;34m=\u001b[0m\u001b[0;34m\"Predictions\"\u001b[0m\u001b[0;34m)\u001b[0m\u001b[0;34m\u001b[0m\u001b[0;34m\u001b[0m\u001b[0m\n\u001b[0m\u001b[1;32m     15\u001b[0m     \u001b[0mplt\u001b[0m\u001b[0;34m.\u001b[0m\u001b[0mlegend\u001b[0m\u001b[0;34m(\u001b[0m\u001b[0;34m)\u001b[0m\u001b[0;34m\u001b[0m\u001b[0;34m\u001b[0m\u001b[0m\n",
            "\u001b[0;32m/usr/local/lib/python3.10/dist-packages/matplotlib/pyplot.py\u001b[0m in \u001b[0;36mscatter\u001b[0;34m(x, y, s, c, marker, cmap, norm, vmin, vmax, alpha, linewidths, edgecolors, plotnonfinite, data, **kwargs)\u001b[0m\n\u001b[1;32m   2860\u001b[0m         \u001b[0mvmin\u001b[0m\u001b[0;34m=\u001b[0m\u001b[0;32mNone\u001b[0m\u001b[0;34m,\u001b[0m \u001b[0mvmax\u001b[0m\u001b[0;34m=\u001b[0m\u001b[0;32mNone\u001b[0m\u001b[0;34m,\u001b[0m \u001b[0malpha\u001b[0m\u001b[0;34m=\u001b[0m\u001b[0;32mNone\u001b[0m\u001b[0;34m,\u001b[0m \u001b[0mlinewidths\u001b[0m\u001b[0;34m=\u001b[0m\u001b[0;32mNone\u001b[0m\u001b[0;34m,\u001b[0m \u001b[0;34m*\u001b[0m\u001b[0;34m,\u001b[0m\u001b[0;34m\u001b[0m\u001b[0;34m\u001b[0m\u001b[0m\n\u001b[1;32m   2861\u001b[0m         edgecolors=None, plotnonfinite=False, data=None, **kwargs):\n\u001b[0;32m-> 2862\u001b[0;31m     __ret = gca().scatter(\n\u001b[0m\u001b[1;32m   2863\u001b[0m         \u001b[0mx\u001b[0m\u001b[0;34m,\u001b[0m \u001b[0my\u001b[0m\u001b[0;34m,\u001b[0m \u001b[0ms\u001b[0m\u001b[0;34m=\u001b[0m\u001b[0ms\u001b[0m\u001b[0;34m,\u001b[0m \u001b[0mc\u001b[0m\u001b[0;34m=\u001b[0m\u001b[0mc\u001b[0m\u001b[0;34m,\u001b[0m \u001b[0mmarker\u001b[0m\u001b[0;34m=\u001b[0m\u001b[0mmarker\u001b[0m\u001b[0;34m,\u001b[0m \u001b[0mcmap\u001b[0m\u001b[0;34m=\u001b[0m\u001b[0mcmap\u001b[0m\u001b[0;34m,\u001b[0m \u001b[0mnorm\u001b[0m\u001b[0;34m=\u001b[0m\u001b[0mnorm\u001b[0m\u001b[0;34m,\u001b[0m\u001b[0;34m\u001b[0m\u001b[0;34m\u001b[0m\u001b[0m\n\u001b[1;32m   2864\u001b[0m         \u001b[0mvmin\u001b[0m\u001b[0;34m=\u001b[0m\u001b[0mvmin\u001b[0m\u001b[0;34m,\u001b[0m \u001b[0mvmax\u001b[0m\u001b[0;34m=\u001b[0m\u001b[0mvmax\u001b[0m\u001b[0;34m,\u001b[0m \u001b[0malpha\u001b[0m\u001b[0;34m=\u001b[0m\u001b[0malpha\u001b[0m\u001b[0;34m,\u001b[0m \u001b[0mlinewidths\u001b[0m\u001b[0;34m=\u001b[0m\u001b[0mlinewidths\u001b[0m\u001b[0;34m,\u001b[0m\u001b[0;34m\u001b[0m\u001b[0;34m\u001b[0m\u001b[0m\n",
            "\u001b[0;32m/usr/local/lib/python3.10/dist-packages/matplotlib/__init__.py\u001b[0m in \u001b[0;36minner\u001b[0;34m(ax, data, *args, **kwargs)\u001b[0m\n\u001b[1;32m   1440\u001b[0m     \u001b[0;32mdef\u001b[0m \u001b[0minner\u001b[0m\u001b[0;34m(\u001b[0m\u001b[0max\u001b[0m\u001b[0;34m,\u001b[0m \u001b[0;34m*\u001b[0m\u001b[0margs\u001b[0m\u001b[0;34m,\u001b[0m \u001b[0mdata\u001b[0m\u001b[0;34m=\u001b[0m\u001b[0;32mNone\u001b[0m\u001b[0;34m,\u001b[0m \u001b[0;34m**\u001b[0m\u001b[0mkwargs\u001b[0m\u001b[0;34m)\u001b[0m\u001b[0;34m:\u001b[0m\u001b[0;34m\u001b[0m\u001b[0;34m\u001b[0m\u001b[0m\n\u001b[1;32m   1441\u001b[0m         \u001b[0;32mif\u001b[0m \u001b[0mdata\u001b[0m \u001b[0;32mis\u001b[0m \u001b[0;32mNone\u001b[0m\u001b[0;34m:\u001b[0m\u001b[0;34m\u001b[0m\u001b[0;34m\u001b[0m\u001b[0m\n\u001b[0;32m-> 1442\u001b[0;31m             \u001b[0;32mreturn\u001b[0m \u001b[0mfunc\u001b[0m\u001b[0;34m(\u001b[0m\u001b[0max\u001b[0m\u001b[0;34m,\u001b[0m \u001b[0;34m*\u001b[0m\u001b[0mmap\u001b[0m\u001b[0;34m(\u001b[0m\u001b[0msanitize_sequence\u001b[0m\u001b[0;34m,\u001b[0m \u001b[0margs\u001b[0m\u001b[0;34m)\u001b[0m\u001b[0;34m,\u001b[0m \u001b[0;34m**\u001b[0m\u001b[0mkwargs\u001b[0m\u001b[0;34m)\u001b[0m\u001b[0;34m\u001b[0m\u001b[0;34m\u001b[0m\u001b[0m\n\u001b[0m\u001b[1;32m   1443\u001b[0m \u001b[0;34m\u001b[0m\u001b[0m\n\u001b[1;32m   1444\u001b[0m         \u001b[0mbound\u001b[0m \u001b[0;34m=\u001b[0m \u001b[0mnew_sig\u001b[0m\u001b[0;34m.\u001b[0m\u001b[0mbind\u001b[0m\u001b[0;34m(\u001b[0m\u001b[0max\u001b[0m\u001b[0;34m,\u001b[0m \u001b[0;34m*\u001b[0m\u001b[0margs\u001b[0m\u001b[0;34m,\u001b[0m \u001b[0;34m**\u001b[0m\u001b[0mkwargs\u001b[0m\u001b[0;34m)\u001b[0m\u001b[0;34m\u001b[0m\u001b[0;34m\u001b[0m\u001b[0m\n",
            "\u001b[0;32m/usr/local/lib/python3.10/dist-packages/matplotlib/axes/_axes.py\u001b[0m in \u001b[0;36mscatter\u001b[0;34m(self, x, y, s, c, marker, cmap, norm, vmin, vmax, alpha, linewidths, edgecolors, plotnonfinite, **kwargs)\u001b[0m\n\u001b[1;32m   4582\u001b[0m         \u001b[0my\u001b[0m \u001b[0;34m=\u001b[0m \u001b[0mnp\u001b[0m\u001b[0;34m.\u001b[0m\u001b[0mma\u001b[0m\u001b[0;34m.\u001b[0m\u001b[0mravel\u001b[0m\u001b[0;34m(\u001b[0m\u001b[0my\u001b[0m\u001b[0;34m)\u001b[0m\u001b[0;34m\u001b[0m\u001b[0;34m\u001b[0m\u001b[0m\n\u001b[1;32m   4583\u001b[0m         \u001b[0;32mif\u001b[0m \u001b[0mx\u001b[0m\u001b[0;34m.\u001b[0m\u001b[0msize\u001b[0m \u001b[0;34m!=\u001b[0m \u001b[0my\u001b[0m\u001b[0;34m.\u001b[0m\u001b[0msize\u001b[0m\u001b[0;34m:\u001b[0m\u001b[0;34m\u001b[0m\u001b[0;34m\u001b[0m\u001b[0m\n\u001b[0;32m-> 4584\u001b[0;31m             \u001b[0;32mraise\u001b[0m \u001b[0mValueError\u001b[0m\u001b[0;34m(\u001b[0m\u001b[0;34m\"x and y must be the same size\"\u001b[0m\u001b[0;34m)\u001b[0m\u001b[0;34m\u001b[0m\u001b[0;34m\u001b[0m\u001b[0m\n\u001b[0m\u001b[1;32m   4585\u001b[0m \u001b[0;34m\u001b[0m\u001b[0m\n\u001b[1;32m   4586\u001b[0m         \u001b[0;32mif\u001b[0m \u001b[0ms\u001b[0m \u001b[0;32mis\u001b[0m \u001b[0;32mNone\u001b[0m\u001b[0;34m:\u001b[0m\u001b[0;34m\u001b[0m\u001b[0;34m\u001b[0m\u001b[0m\n",
            "\u001b[0;31mValueError\u001b[0m: x and y must be the same size"
          ]
        },
        {
          "output_type": "display_data",
          "data": {
            "text/plain": [
              "<Figure size 1000x700 with 1 Axes>"
            ],
            "image/png": "[encoded data removed]"
          },
          "metadata": {}
        }
      ]
    },
    {
      "cell_type": "code",
      "source": [],
      "metadata": {
        "id": "RQAslJAtUnCP"
      },
      "execution_count": null,
      "outputs": []
    }
  ]
}