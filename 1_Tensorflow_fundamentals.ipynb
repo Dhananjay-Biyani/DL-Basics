{
  "nbformat": 4,
  "nbformat_minor": 0,
  "metadata": {
    "colab": {
      "provenance": []
    },
    "kernelspec": {
      "name": "python3",
      "display_name": "Python 3"
    },
    "language_info": {
      "name": "python"
    }
  },
  "cells": [
    {
      "cell_type": "markdown",
      "source": [
        "# Introduction to tensor"
      ],
      "metadata": {
        "id": "Rqw5scCX5_Rv"
      }
    },
    {
      "cell_type": "code",
      "execution_count": 2,
      "metadata": {
        "colab": {
          "base_uri": "https://localhost:8080/"
        },
        "id": "8u_j9hFC5JyH",
        "outputId": "69e1b7f4-d191-48c1-a29c-91605a610fa2"
      },
      "outputs": [
        {
          "output_type": "stream",
          "name": "stdout",
          "text": [
            "2.13.0\n"
          ]
        }
      ],
      "source": [
        "import tensorflow as tf\n",
        "print(tf.__version__)"
      ]
    },
    {
      "cell_type": "markdown",
      "source": [
        "Creating a tensor using tf.constant\n"
      ],
      "metadata": {
        "id": "TSzZ1h3p7l_w"
      }
    },
    {
      "cell_type": "code",
      "source": [
        "scaler = tf.constant(7)\n",
        "scaler\n",
        "\n",
        "# scaler has dimension as 0"
      ],
      "metadata": {
        "colab": {
          "base_uri": "https://localhost:8080/"
        },
        "id": "O1e8nNVz6Z8H",
        "outputId": "d0c0876a-5c38-4c84-f96f-9d83ce84bd7f"
      },
      "execution_count": 3,
      "outputs": [
        {
          "output_type": "execute_result",
          "data": {
            "text/plain": [
              "<tf.Tensor: shape=(), dtype=int32, numpy=7>"
            ]
          },
          "metadata": {},
          "execution_count": 3
        }
      ]
    },
    {
      "cell_type": "markdown",
      "source": [
        "Checking dimension of tensor"
      ],
      "metadata": {
        "id": "ppz_Pnrv9crq"
      }
    },
    {
      "cell_type": "code",
      "source": [
        "scaler.ndim"
      ],
      "metadata": {
        "colab": {
          "base_uri": "https://localhost:8080/"
        },
        "id": "tP1Sbv0j7OHZ",
        "outputId": "d65d4205-16ed-470d-baa4-38cf20bb184e"
      },
      "execution_count": 4,
      "outputs": [
        {
          "output_type": "execute_result",
          "data": {
            "text/plain": [
              "0"
            ]
          },
          "metadata": {},
          "execution_count": 4
        }
      ]
    },
    {
      "cell_type": "code",
      "source": [
        "vector = tf.constant([10,13])\n",
        "vector\n",
        "\n",
        "# vector has dimension as 1"
      ],
      "metadata": {
        "colab": {
          "base_uri": "https://localhost:8080/"
        },
        "id": "2vzk3Vgm9lcC",
        "outputId": "3438750e-3a25-45db-c228-2fac2156c633"
      },
      "execution_count": 5,
      "outputs": [
        {
          "output_type": "execute_result",
          "data": {
            "text/plain": [
              "<tf.Tensor: shape=(2,), dtype=int32, numpy=array([10, 13], dtype=int32)>"
            ]
          },
          "metadata": {},
          "execution_count": 5
        }
      ]
    },
    {
      "cell_type": "code",
      "source": [
        "vector.ndim"
      ],
      "metadata": {
        "colab": {
          "base_uri": "https://localhost:8080/"
        },
        "id": "b1DkRQJu-kaK",
        "outputId": "a3805683-50f1-4630-ee43-3e04b21a20ed"
      },
      "execution_count": 6,
      "outputs": [
        {
          "output_type": "execute_result",
          "data": {
            "text/plain": [
              "1"
            ]
          },
          "metadata": {},
          "execution_count": 6
        }
      ]
    },
    {
      "cell_type": "code",
      "source": [
        "matrix = tf.constant([[10,11],[12,13]])\n",
        "matrix\n",
        "\n",
        "# matrix is nothing but 2 dimensional array"
      ],
      "metadata": {
        "colab": {
          "base_uri": "https://localhost:8080/"
        },
        "id": "dWwgZ5G9-t-S",
        "outputId": "5531ac27-ae7a-4170-d80b-cadb906a99b5"
      },
      "execution_count": 7,
      "outputs": [
        {
          "output_type": "execute_result",
          "data": {
            "text/plain": [
              "<tf.Tensor: shape=(2, 2), dtype=int32, numpy=\n",
              "array([[10, 11],\n",
              "       [12, 13]], dtype=int32)>"
            ]
          },
          "metadata": {},
          "execution_count": 7
        }
      ]
    },
    {
      "cell_type": "code",
      "source": [
        "matrix.ndim"
      ],
      "metadata": {
        "colab": {
          "base_uri": "https://localhost:8080/"
        },
        "id": "Ft2CFMSv-60k",
        "outputId": "964b0a11-9fb5-475e-8d26-a2b78db4eab3"
      },
      "execution_count": 8,
      "outputs": [
        {
          "output_type": "execute_result",
          "data": {
            "text/plain": [
              "2"
            ]
          },
          "metadata": {},
          "execution_count": 8
        }
      ]
    },
    {
      "cell_type": "markdown",
      "source": [
        "creating tensor using tf.variable"
      ],
      "metadata": {
        "id": "WpXGDZ0aEZKd"
      }
    },
    {
      "cell_type": "markdown",
      "source": [
        "Tensors created using tf.constant are immutable while those created using tf.variable are mutable and their value can be changes using assign() method"
      ],
      "metadata": {
        "id": "c3h4OImBGLP0"
      }
    },
    {
      "cell_type": "code",
      "source": [
        "tensor = tf.Variable([10,7])\n",
        "tensor"
      ],
      "metadata": {
        "colab": {
          "base_uri": "https://localhost:8080/"
        },
        "id": "dmos1TTSEeUO",
        "outputId": "b77b9799-4912-409c-cf82-bb40b94cf730"
      },
      "execution_count": 9,
      "outputs": [
        {
          "output_type": "execute_result",
          "data": {
            "text/plain": [
              "<tf.Variable 'Variable:0' shape=(2,) dtype=int32, numpy=array([10,  7], dtype=int32)>"
            ]
          },
          "metadata": {},
          "execution_count": 9
        }
      ]
    },
    {
      "cell_type": "markdown",
      "source": [
        "Creating random tensors"
      ],
      "metadata": {
        "id": "1IiHjFR_IchG"
      }
    },
    {
      "cell_type": "code",
      "source": [
        "random_tensor = tf.random.uniform(minval=1,maxval=100,shape=(2,2),dtype=tf.int32)\n",
        "random_tensor"
      ],
      "metadata": {
        "colab": {
          "base_uri": "https://localhost:8080/"
        },
        "id": "NYd1BnXEEloR",
        "outputId": "25ceef52-a80c-4534-fbda-2b7c0918f0e2"
      },
      "execution_count": 10,
      "outputs": [
        {
          "output_type": "execute_result",
          "data": {
            "text/plain": [
              "<tf.Tensor: shape=(2, 2), dtype=int32, numpy=\n",
              "array([[99, 84],\n",
              "       [76, 98]], dtype=int32)>"
            ]
          },
          "metadata": {},
          "execution_count": 10
        }
      ]
    },
    {
      "cell_type": "markdown",
      "source": [
        "Different types of tensors"
      ],
      "metadata": {
        "id": "VnCTHHtqCDL-"
      }
    },
    {
      "cell_type": "code",
      "source": [
        "# tensor of all ones\n",
        "tf.ones(shape=(3,3),dtype=tf.float16)\n"
      ],
      "metadata": {
        "id": "6z4-RnDLJcoi",
        "colab": {
          "base_uri": "https://localhost:8080/"
        },
        "outputId": "dd4f75e5-38f8-4e34-8629-a4c076e4e3a6"
      },
      "execution_count": 12,
      "outputs": [
        {
          "output_type": "execute_result",
          "data": {
            "text/plain": [
              "<tf.Tensor: shape=(3, 3), dtype=float16, numpy=\n",
              "array([[1., 1., 1.],\n",
              "       [1., 1., 1.],\n",
              "       [1., 1., 1.]], dtype=float16)>"
            ]
          },
          "metadata": {},
          "execution_count": 12
        }
      ]
    },
    {
      "cell_type": "code",
      "source": [
        "# tensor of all zeros\n",
        "tf.zeros(shape=(2,3))\n"
      ],
      "metadata": {
        "colab": {
          "base_uri": "https://localhost:8080/"
        },
        "id": "ZbAl3kaFC0Nx",
        "outputId": "f3c3239e-47e0-42d0-fbba-0da15f547a50"
      },
      "execution_count": 13,
      "outputs": [
        {
          "output_type": "execute_result",
          "data": {
            "text/plain": [
              "<tf.Tensor: shape=(2, 3), dtype=float32, numpy=\n",
              "array([[0., 0., 0.],\n",
              "       [0., 0., 0.]], dtype=float32)>"
            ]
          },
          "metadata": {},
          "execution_count": 13
        }
      ]
    },
    {
      "cell_type": "code",
      "source": [
        "# indentity matrix\n",
        "identity_matrix = tf.eye(5)\n",
        "print(identity_matrix)"
      ],
      "metadata": {
        "colab": {
          "base_uri": "https://localhost:8080/"
        },
        "id": "SAlzmEn-DGNv",
        "outputId": "bd193f8b-77f4-4de6-98c8-f5f45537b88c"
      },
      "execution_count": 19,
      "outputs": [
        {
          "output_type": "stream",
          "name": "stdout",
          "text": [
            "tf.Tensor(\n",
            "[[1. 0. 0. 0. 0.]\n",
            " [0. 1. 0. 0. 0.]\n",
            " [0. 0. 1. 0. 0.]\n",
            " [0. 0. 0. 1. 0.]\n",
            " [0. 0. 0. 0. 1.]], shape=(5, 5), dtype=float32)\n"
          ]
        }
      ]
    },
    {
      "cell_type": "code",
      "source": [],
      "metadata": {
        "id": "p4RjXuyFNmyi"
      },
      "execution_count": null,
      "outputs": []
    }
  ]
}