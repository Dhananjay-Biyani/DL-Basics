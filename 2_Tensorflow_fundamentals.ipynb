{
  "cells": [
    {
      "cell_type": "markdown",
      "metadata": {
        "id": "c1GbkYmSDbxV"
      },
      "source": [
        "## Tensors using NumPy arrays\n",
        "\n",
        "The main difference between numpy array and tensors is that later can be run on GPU for faster numerical computing"
      ]
    },
    {
      "cell_type": "code",
      "execution_count": 81,
      "metadata": {
        "id": "ccQiGadHDWbm"
      },
      "outputs": [],
      "source": [
        "import numpy as np\n",
        "import tensorflow as tf"
      ]
    },
    {
      "cell_type": "code",
      "execution_count": 82,
      "metadata": {
        "colab": {
          "base_uri": "https://localhost:8080/"
        },
        "id": "MS-SosIaDzcu",
        "outputId": "31223a77-1d92-4560-dc8b-a2ecc41decc8"
      },
      "outputs": [
        {
          "data": {
            "text/plain": [
              "numpy.ndarray"
            ]
          },
          "execution_count": 82,
          "metadata": {},
          "output_type": "execute_result"
        }
      ],
      "source": [
        "numpy_A = np.arange(1,25,dtype = np.int32)\n",
        "type(numpy_A)"
      ]
    },
    {
      "cell_type": "code",
      "execution_count": 83,
      "metadata": {
        "colab": {
          "base_uri": "https://localhost:8080/"
        },
        "id": "ro4HRI-9EGbV",
        "outputId": "4c21cdff-c3cf-4d0e-c328-5900e094bb7a"
      },
      "outputs": [
        {
          "data": {
            "text/plain": [
              "<tf.Tensor: shape=(24,), dtype=int32, numpy=\n",
              "array([ 1,  2,  3,  4,  5,  6,  7,  8,  9, 10, 11, 12, 13, 14, 15, 16, 17,\n",
              "       18, 19, 20, 21, 22, 23, 24])>"
            ]
          },
          "execution_count": 83,
          "metadata": {},
          "output_type": "execute_result"
        }
      ],
      "source": [
        "A = tf.constant(numpy_A)\n",
        "A"
      ]
    },
    {
      "cell_type": "code",
      "execution_count": 84,
      "metadata": {
        "colab": {
          "base_uri": "https://localhost:8080/"
        },
        "id": "2wTj1l0zESla",
        "outputId": "424d9f59-94b4-43d6-deb2-1580d623e73e"
      },
      "outputs": [
        {
          "data": {
            "text/plain": [
              "<tf.Tensor: shape=(8, 3), dtype=int32, numpy=\n",
              "array([[ 1,  2,  3],\n",
              "       [ 4,  5,  6],\n",
              "       [ 7,  8,  9],\n",
              "       [10, 11, 12],\n",
              "       [13, 14, 15],\n",
              "       [16, 17, 18],\n",
              "       [19, 20, 21],\n",
              "       [22, 23, 24]])>"
            ]
          },
          "execution_count": 84,
          "metadata": {},
          "output_type": "execute_result"
        }
      ],
      "source": [
        "B = tf.constant(numpy_A ,shape = (8,3))\n",
        "B"
      ]
    },
    {
      "cell_type": "markdown",
      "metadata": {
        "id": "R9I-uhqBJ2hK"
      },
      "source": [
        "Basic attributes of tensors\n",
        "1. Shape:- it gives the number of elements present in each of the dimension of the tensor ,for example: shape = [2,3] denotes that there are 2 elements(number of rows) and there are 3 columns in each of the dimension\n",
        "2. size:- It gives the number of elements present in the tensor i.e count"
      ]
    },
    {
      "cell_type": "code",
      "execution_count": 85,
      "metadata": {
        "colab": {
          "base_uri": "https://localhost:8080/"
        },
        "id": "rKJkeV04FIkg",
        "outputId": "c3857bd6-245f-4708-bf8b-fd6c4a7a086a"
      },
      "outputs": [
        {
          "data": {
            "text/plain": [
              "<tf.Tensor: shape=(2, 3, 4, 5), dtype=int32, numpy=\n",
              "array([[[[1, 1, 1, 1, 1],\n",
              "         [1, 1, 1, 1, 1],\n",
              "         [1, 1, 1, 1, 1],\n",
              "         [1, 1, 1, 1, 1]],\n",
              "\n",
              "        [[1, 1, 1, 1, 1],\n",
              "         [1, 1, 1, 1, 1],\n",
              "         [1, 1, 1, 1, 1],\n",
              "         [1, 1, 1, 1, 1]],\n",
              "\n",
              "        [[1, 1, 1, 1, 1],\n",
              "         [1, 1, 1, 1, 1],\n",
              "         [1, 1, 1, 1, 1],\n",
              "         [1, 1, 1, 1, 1]]],\n",
              "\n",
              "\n",
              "       [[[1, 1, 1, 1, 1],\n",
              "         [1, 1, 1, 1, 1],\n",
              "         [1, 1, 1, 1, 1],\n",
              "         [1, 1, 1, 1, 1]],\n",
              "\n",
              "        [[1, 1, 1, 1, 1],\n",
              "         [1, 1, 1, 1, 1],\n",
              "         [1, 1, 1, 1, 1],\n",
              "         [1, 1, 1, 1, 1]],\n",
              "\n",
              "        [[1, 1, 1, 1, 1],\n",
              "         [1, 1, 1, 1, 1],\n",
              "         [1, 1, 1, 1, 1],\n",
              "         [1, 1, 1, 1, 1]]]])>"
            ]
          },
          "execution_count": 85,
          "metadata": {},
          "output_type": "execute_result"
        }
      ],
      "source": [
        "attributes_of_tensor = tf.ones(shape=(2,3,4,5),dtype=tf.int32)\n",
        "attributes_of_tensor"
      ]
    },
    {
      "cell_type": "code",
      "execution_count": 86,
      "metadata": {
        "colab": {
          "base_uri": "https://localhost:8080/"
        },
        "id": "LsvBpuPIKMR9",
        "outputId": "c5b75dc1-fe5f-480c-f1b4-899c7e9f5e26"
      },
      "outputs": [
        {
          "data": {
            "text/plain": [
              "TensorShape([2, 3, 4, 5])"
            ]
          },
          "execution_count": 86,
          "metadata": {},
          "output_type": "execute_result"
        }
      ],
      "source": [
        "attributes_of_tensor.shape"
      ]
    },
    {
      "cell_type": "code",
      "execution_count": 87,
      "metadata": {
        "colab": {
          "base_uri": "https://localhost:8080/"
        },
        "id": "4Dpi-dsPLfIb",
        "outputId": "c10b8f35-8b77-4729-eb1a-8aa9829c46c2"
      },
      "outputs": [
        {
          "data": {
            "text/plain": [
              "<tf.Tensor: shape=(), dtype=int32, numpy=120>"
            ]
          },
          "execution_count": 87,
          "metadata": {},
          "output_type": "execute_result"
        }
      ],
      "source": [
        "tf.size(attributes_of_tensor)\n",
        "# output 120 means that there are total 120 values in each of the axis of tensor"
      ]
    },
    {
      "cell_type": "code",
      "execution_count": 88,
      "metadata": {
        "colab": {
          "base_uri": "https://localhost:8080/"
        },
        "id": "qo71498-LrZc",
        "outputId": "c97d506a-d8ae-4b48-a1ea-b47a0dda0e21"
      },
      "outputs": [
        {
          "data": {
            "text/plain": [
              "<tf.Tensor: shape=(3, 4, 5), dtype=int32, numpy=\n",
              "array([[[1, 1, 1, 1, 1],\n",
              "        [1, 1, 1, 1, 1],\n",
              "        [1, 1, 1, 1, 1],\n",
              "        [1, 1, 1, 1, 1]],\n",
              "\n",
              "       [[1, 1, 1, 1, 1],\n",
              "        [1, 1, 1, 1, 1],\n",
              "        [1, 1, 1, 1, 1],\n",
              "        [1, 1, 1, 1, 1]],\n",
              "\n",
              "       [[1, 1, 1, 1, 1],\n",
              "        [1, 1, 1, 1, 1],\n",
              "        [1, 1, 1, 1, 1],\n",
              "        [1, 1, 1, 1, 1]]])>"
            ]
          },
          "execution_count": 88,
          "metadata": {},
          "output_type": "execute_result"
        }
      ],
      "source": [
        "attributes_of_tensor[0]"
      ]
    },
    {
      "cell_type": "markdown",
      "metadata": {
        "id": "zkL_3smkMj44"
      },
      "source": [
        "Indexing of tensors"
      ]
    },
    {
      "cell_type": "code",
      "execution_count": 89,
      "metadata": {
        "colab": {
          "base_uri": "https://localhost:8080/"
        },
        "id": "LNCdB369MDOM",
        "outputId": "03894d1d-4171-4c6b-e88c-12bc8660a2d0"
      },
      "outputs": [
        {
          "data": {
            "text/plain": [
              "<tf.Tensor: shape=(2, 2, 2, 2), dtype=int32, numpy=\n",
              "array([[[[1, 1],\n",
              "         [1, 1]],\n",
              "\n",
              "        [[1, 1],\n",
              "         [1, 1]]],\n",
              "\n",
              "\n",
              "       [[[1, 1],\n",
              "         [1, 1]],\n",
              "\n",
              "        [[1, 1],\n",
              "         [1, 1]]]])>"
            ]
          },
          "execution_count": 89,
          "metadata": {},
          "output_type": "execute_result"
        }
      ],
      "source": [
        "# getting first 2 elements of each dimension\n",
        "attributes_of_tensor[:2,:2,:2,:2]"
      ]
    },
    {
      "cell_type": "code",
      "execution_count": 90,
      "metadata": {
        "colab": {
          "base_uri": "https://localhost:8080/"
        },
        "id": "NWQTQNQvOG-T",
        "outputId": "84895b53-bec8-4701-adc3-6df00d0a28c7"
      },
      "outputs": [
        {
          "data": {
            "text/plain": [
              "<tf.Tensor: shape=(1, 1, 1, 5), dtype=int32, numpy=array([[[[1, 1, 1, 1, 1]]]])>"
            ]
          },
          "execution_count": 90,
          "metadata": {},
          "output_type": "execute_result"
        }
      ],
      "source": [
        "# getting the first element from each dimension from each index except for the final one\n",
        "attributes_of_tensor[:1,:1,:1]"
      ]
    },
    {
      "cell_type": "code",
      "execution_count": 91,
      "metadata": {
        "colab": {
          "base_uri": "https://localhost:8080/"
        },
        "id": "72K1SkmcO_Og",
        "outputId": "3b31e8c9-3aff-4392-d7b7-431b6cff8e88"
      },
      "outputs": [
        {
          "data": {
            "text/plain": [
              "<tf.Tensor: shape=(2, 2), dtype=int32, numpy=\n",
              "array([[10,  7],\n",
              "       [ 3,  4]])>"
            ]
          },
          "execution_count": 91,
          "metadata": {},
          "output_type": "execute_result"
        }
      ],
      "source": [
        "# adding extra dimension to a tensor\n",
        "rank_2_tensor = tf.constant([[10,7],[3,4]])\n",
        "rank_2_tensor"
      ]
    },
    {
      "cell_type": "code",
      "execution_count": 92,
      "metadata": {
        "colab": {
          "base_uri": "https://localhost:8080/"
        },
        "id": "58yYR7ZAVCso",
        "outputId": "ae1a35be-4596-4585-ccd3-bc67a2fd5420"
      },
      "outputs": [
        {
          "data": {
            "text/plain": [
              "2"
            ]
          },
          "execution_count": 92,
          "metadata": {},
          "output_type": "execute_result"
        }
      ],
      "source": [
        "rank_2_tensor.ndim"
      ]
    },
    {
      "cell_type": "code",
      "execution_count": 93,
      "metadata": {
        "colab": {
          "base_uri": "https://localhost:8080/"
        },
        "id": "9a_lxIx0VVhV",
        "outputId": "1e6ed841-8b87-4e15-81ba-9a550aae49cc"
      },
      "outputs": [
        {
          "data": {
            "text/plain": [
              "<tf.Tensor: shape=(2, 2, 1), dtype=int32, numpy=\n",
              "array([[[10],\n",
              "        [ 7]],\n",
              "\n",
              "       [[ 3],\n",
              "        [ 4]]])>"
            ]
          },
          "execution_count": 93,
          "metadata": {},
          "output_type": "execute_result"
        }
      ],
      "source": [
        "rank_3_tensor = rank_2_tensor[...,tf.newaxis]\n",
        "rank_3_tensor"
      ]
    },
    {
      "cell_type": "code",
      "execution_count": 94,
      "metadata": {
        "id": "qg1LLZHFVtK9"
      },
      "outputs": [],
      "source": [
        "rank_4_tensor = rank_3_tensor[...,tf.newaxis]"
      ]
    },
    {
      "cell_type": "code",
      "execution_count": 95,
      "metadata": {
        "colab": {
          "base_uri": "https://localhost:8080/"
        },
        "id": "kUfUHMGfWA3Z",
        "outputId": "a175ddf8-b1d0-4f06-ac61-5869b32e5bd3"
      },
      "outputs": [
        {
          "data": {
            "text/plain": [
              "<tf.Tensor: shape=(2, 2, 1, 1), dtype=int32, numpy=\n",
              "array([[[[10]],\n",
              "\n",
              "        [[ 7]]],\n",
              "\n",
              "\n",
              "       [[[ 3]],\n",
              "\n",
              "        [[ 4]]]])>"
            ]
          },
          "execution_count": 95,
          "metadata": {},
          "output_type": "execute_result"
        }
      ],
      "source": [
        "rank_4_tensor"
      ]
    },
    {
      "cell_type": "code",
      "execution_count": 96,
      "metadata": {
        "colab": {
          "base_uri": "https://localhost:8080/"
        },
        "id": "FpsPUh7WWCsI",
        "outputId": "cde57bfc-4ad6-40ac-a8e5-97a03335c247"
      },
      "outputs": [
        {
          "data": {
            "text/plain": [
              "<tf.Tensor: shape=(2, 2, 1), dtype=int32, numpy=\n",
              "array([[[10],\n",
              "        [ 7]],\n",
              "\n",
              "       [[ 3],\n",
              "        [ 4]]])>"
            ]
          },
          "execution_count": 96,
          "metadata": {},
          "output_type": "execute_result"
        }
      ],
      "source": [
        "# alternative to tf.newaxis\n",
        "tf.expand_dims(rank_2_tensor,axis=-1) # axis = -1 mean add another dimension after the previous last dimension"
      ]
    },
    {
      "cell_type": "code",
      "execution_count": 97,
      "metadata": {
        "colab": {
          "base_uri": "https://localhost:8080/"
        },
        "id": "r4EioBWZXJl1",
        "outputId": "c433ec05-c03b-4cba-ff50-62aea15a3506"
      },
      "outputs": [
        {
          "data": {
            "text/plain": [
              "<tf.Tensor: shape=(1, 2, 2), dtype=int32, numpy=\n",
              "array([[[10,  7],\n",
              "        [ 3,  4]]])>"
            ]
          },
          "execution_count": 97,
          "metadata": {},
          "output_type": "execute_result"
        }
      ],
      "source": [
        "tf.expand_dims(rank_2_tensor,axis=0) #adding at the start"
      ]
    },
    {
      "cell_type": "markdown",
      "metadata": {
        "id": "Cn22beLnXggi"
      },
      "source": [
        "Manipulating tensors(tensor operations)\n",
        "1. **Basic Operations**\n",
        " `+` , `-` ,`*`  \n",
        "2. When manipulating tensor the original remains unchanged"
      ]
    },
    {
      "cell_type": "code",
      "execution_count": 98,
      "metadata": {
        "colab": {
          "base_uri": "https://localhost:8080/"
        },
        "id": "82nU8jdkXTJ2",
        "outputId": "d87e4d20-16a1-4cc5-f857-eb41d01bd033"
      },
      "outputs": [
        {
          "data": {
            "text/plain": [
              "<tf.Tensor: shape=(2, 2), dtype=int32, numpy=\n",
              "array([[20, 17],\n",
              "       [13, 14]])>"
            ]
          },
          "execution_count": 98,
          "metadata": {},
          "output_type": "execute_result"
        }
      ],
      "source": [
        "# addition\n",
        "tensor = tf.constant([[10,7],[3,4]])\n",
        "tensor + 10 # this will add 10 to each value\n"
      ]
    },
    {
      "cell_type": "code",
      "execution_count": 99,
      "metadata": {
        "colab": {
          "base_uri": "https://localhost:8080/"
        },
        "id": "EKs2p870aVaW",
        "outputId": "434163d5-5734-4a4f-e5f5-0010dbfb3959"
      },
      "outputs": [
        {
          "data": {
            "text/plain": [
              "<tf.Tensor: shape=(2, 2), dtype=int32, numpy=\n",
              "array([[10,  7],\n",
              "       [ 3,  4]])>"
            ]
          },
          "execution_count": 99,
          "metadata": {},
          "output_type": "execute_result"
        }
      ],
      "source": [
        "tensor #original tensor remains unchanged"
      ]
    },
    {
      "cell_type": "code",
      "execution_count": 100,
      "metadata": {
        "colab": {
          "base_uri": "https://localhost:8080/"
        },
        "id": "9NAL8vKraXUv",
        "outputId": "2d79ea1e-bd7c-4a76-b37b-a19c86786c09"
      },
      "outputs": [
        {
          "data": {
            "text/plain": [
              "<tf.Tensor: shape=(2, 2), dtype=int32, numpy=\n",
              "array([[2, 2],\n",
              "       [4, 4]])>"
            ]
          },
          "execution_count": 100,
          "metadata": {},
          "output_type": "execute_result"
        }
      ],
      "source": [
        "# multiplication\n",
        "tensor2 = tf.constant([[1,1],[2,2]])\n",
        "tensor2 *2"
      ]
    },
    {
      "cell_type": "code",
      "execution_count": 101,
      "metadata": {
        "colab": {
          "base_uri": "https://localhost:8080/"
        },
        "id": "B3qjtedHamIl",
        "outputId": "96f7c8e9-e95c-4b8c-cec3-4e6fc2c54bca"
      },
      "outputs": [
        {
          "data": {
            "text/plain": [
              "<tf.Tensor: shape=(2, 2), dtype=int32, numpy=\n",
              "array([[2, 2],\n",
              "       [1, 1]])>"
            ]
          },
          "execution_count": 101,
          "metadata": {},
          "output_type": "execute_result"
        }
      ],
      "source": [
        "# division\n",
        "tensor3 = tf.constant([[10,10],[5,5]])\n",
        "tensor3//5"
      ]
    },
    {
      "cell_type": "markdown",
      "metadata": {
        "id": "_sZBWl4Fblp3"
      },
      "source": [
        "Another way to manipulate the tensors is using inbuilt tensorflow functions like\n",
        "1. tf.multiply(`tensor name` , `value`)\n",
        "2. tf.add() and so on"
      ]
    },
    {
      "cell_type": "markdown",
      "metadata": {
        "id": "EtR3BCiKc18P"
      },
      "source": [
        "Matrix Multiplication\n",
        "\n",
        "**Rules for tensor(matrix) multiplication**\n",
        "1. The inner dimensions must match i.e if 3 x 2 and 3 x 2 here the inner dimensions are different (2,3) therefor it will give error\n",
        "2. The resulting matrix has the shape of the outer dimension"
      ]
    },
    {
      "cell_type": "code",
      "execution_count": 102,
      "metadata": {
        "colab": {
          "base_uri": "https://localhost:8080/"
        },
        "id": "AWPT54vtayiI",
        "outputId": "7c7d7274-35dd-4761-af96-01088a2072d2"
      },
      "outputs": [
        {
          "data": {
            "text/plain": [
              "(<tf.Tensor: shape=(2, 2), dtype=int32, numpy=\n",
              " array([[1, 1],\n",
              "        [2, 2]])>,\n",
              " <tf.Tensor: shape=(2, 2), dtype=int32, numpy=\n",
              " array([[10, 10],\n",
              "        [ 5,  5]])>)"
            ]
          },
          "execution_count": 102,
          "metadata": {},
          "output_type": "execute_result"
        }
      ],
      "source": [
        "tensor2 , tensor3"
      ]
    },
    {
      "cell_type": "code",
      "execution_count": 103,
      "metadata": {
        "colab": {
          "base_uri": "https://localhost:8080/"
        },
        "id": "w48Xtz5iY9EC",
        "outputId": "6e740c10-f59d-40bf-cd91-b99c269929fe"
      },
      "outputs": [
        {
          "data": {
            "text/plain": [
              "<tf.Tensor: shape=(2, 2), dtype=int32, numpy=\n",
              "array([[15, 15],\n",
              "       [30, 30]])>"
            ]
          },
          "execution_count": 103,
          "metadata": {},
          "output_type": "execute_result"
        }
      ],
      "source": [
        "tensor_multplication = tf.matmul(tensor2,tensor3)\n",
        "tensor_multplication"
      ]
    },
    {
      "cell_type": "code",
      "execution_count": 104,
      "metadata": {
        "colab": {
          "base_uri": "https://localhost:8080/"
        },
        "id": "W0rCZ0NXZLkF",
        "outputId": "0c920b3a-6d6c-40b4-fa50-dd6c4ef8742c"
      },
      "outputs": [
        {
          "name": "stdout",
          "output_type": "stream",
          "text": [
            "tf.Tensor(\n",
            "[[20 59]\n",
            " [34 57]\n",
            " [30 60]], shape=(3, 2), dtype=int32)\n"
          ]
        }
      ],
      "source": [
        "tensor3= tf.constant([[1,2,5],[7,2,1],[3,3,3]])\n",
        "tensor4 = tf.constant([[3,5],[6,7],[1,8]])\n",
        "\n",
        "result_tensor = tf.matmul(tensor3,tensor4)\n",
        "print(result_tensor)"
      ]
    },
    {
      "cell_type": "markdown",
      "metadata": {
        "id": "SBd6q2bFeY6B"
      },
      "source": [
        "**Dot Product**\n",
        "\n",
        "Dot product is same as matrix multiplication. This can be performed using\n",
        "1. `tf.matmul()`\n",
        "2. `tf.tensordot()`"
      ]
    },
    {
      "cell_type": "code",
      "execution_count": 105,
      "metadata": {
        "colab": {
          "base_uri": "https://localhost:8080/"
        },
        "id": "lZFw7fQYaGT1",
        "outputId": "65b0e96c-5180-4ecb-da2c-b4805a085847"
      },
      "outputs": [
        {
          "data": {
            "text/plain": [
              "(<tf.Tensor: shape=(3, 3), dtype=int32, numpy=\n",
              " array([[1, 2, 5],\n",
              "        [7, 2, 1],\n",
              "        [3, 3, 3]])>,\n",
              " <tf.Tensor: shape=(3, 2), dtype=int32, numpy=\n",
              " array([[3, 5],\n",
              "        [6, 7],\n",
              "        [1, 8]])>)"
            ]
          },
          "execution_count": 105,
          "metadata": {},
          "output_type": "execute_result"
        }
      ],
      "source": [
        "# dot product requires either of the tensor(matrix) to be in transpose\n",
        "tensor3 , tensor4"
      ]
    },
    {
      "cell_type": "code",
      "execution_count": 106,
      "metadata": {
        "colab": {
          "base_uri": "https://localhost:8080/"
        },
        "id": "T2caJV_WfF-a",
        "outputId": "63d73933-5247-46aa-c85b-fb3455a2dc6f"
      },
      "outputs": [
        {
          "data": {
            "text/plain": [
              "<tf.Tensor: shape=(3, 2), dtype=int32, numpy=\n",
              "array([[48, 78],\n",
              "       [21, 48],\n",
              "       [24, 56]])>"
            ]
          },
          "execution_count": 106,
          "metadata": {},
          "output_type": "execute_result"
        }
      ],
      "source": [
        "tf.tensordot(tf.transpose(tensor3) , tensor4 ,axes=1)"
      ]
    },
    {
      "cell_type": "markdown",
      "metadata": {},
      "source": [
        "Aggregating Tnesor"
      ]
    },
    {
      "cell_type": "code",
      "execution_count": 107,
      "metadata": {
        "id": "_HNTZPs3gHo3"
      },
      "outputs": [
        {
          "name": "stdout",
          "output_type": "stream",
          "text": [
            "tf.Tensor([-10  -3], shape=(2,), dtype=int32)\n",
            "tf.Tensor([10  3], shape=(2,), dtype=int32)\n"
          ]
        }
      ],
      "source": [
        "# Getting the absoulte value\n",
        "D = tf.constant([-10,-3])\n",
        "print(D)\n",
        "print(tf.abs(D))"
      ]
    },
    {
      "cell_type": "code",
      "execution_count": 108,
      "metadata": {},
      "outputs": [
        {
          "data": {
            "text/plain": [
              "<tf.Tensor: shape=(50,), dtype=int32, numpy=\n",
              "array([ 10,   2, 107, 194,  68,   3, 172, 124,  10,  95, 117,  54,  97,\n",
              "        25,  18,  75, 134,  95, 138,  76, 142,  59, 184, 177,  61, 101,\n",
              "        38,  71, 153,   7,  85,  68,  66,  42,  92,   1,  28, 100, 174,\n",
              "       105, 181,  10,  80, 150,  36,  10, 184,   0, 142,  84])>"
            ]
          },
          "execution_count": 108,
          "metadata": {},
          "output_type": "execute_result"
        }
      ],
      "source": [
        "# Getting the minimum, maxium, sum ,mean  value\n",
        "E = tf.constant(np.random.randint(0,200,size=50))\n",
        "tf.size(E)\n",
        "E"
      ]
    },
    {
      "cell_type": "code",
      "execution_count": 109,
      "metadata": {},
      "outputs": [
        {
          "data": {
            "text/plain": [
              "<tf.Tensor: shape=(), dtype=int32, numpy=0>"
            ]
          },
          "execution_count": 109,
          "metadata": {},
          "output_type": "execute_result"
        }
      ],
      "source": [
        "tf.reduce_min(E)"
      ]
    },
    {
      "cell_type": "code",
      "execution_count": 110,
      "metadata": {},
      "outputs": [
        {
          "data": {
            "text/plain": [
              "<tf.Tensor: shape=(), dtype=int32, numpy=194>"
            ]
          },
          "execution_count": 110,
          "metadata": {},
          "output_type": "execute_result"
        }
      ],
      "source": [
        "tf.reduce_max(E)"
      ]
    },
    {
      "cell_type": "code",
      "execution_count": 111,
      "metadata": {},
      "outputs": [
        {
          "data": {
            "text/plain": [
              "<tf.Tensor: shape=(), dtype=int32, numpy=4245>"
            ]
          },
          "execution_count": 111,
          "metadata": {},
          "output_type": "execute_result"
        }
      ],
      "source": [
        "tf.reduce_sum(E)"
      ]
    },
    {
      "cell_type": "code",
      "execution_count": 112,
      "metadata": {},
      "outputs": [
        {
          "data": {
            "text/plain": [
              "<tf.Tensor: shape=(), dtype=int32, numpy=84>"
            ]
          },
          "execution_count": 112,
          "metadata": {},
          "output_type": "execute_result"
        }
      ],
      "source": [
        "tf.reduce_mean(E)"
      ]
    },
    {
      "cell_type": "code",
      "execution_count": 113,
      "metadata": {},
      "outputs": [
        {
          "ename": "ImportError",
          "evalue": "This version of TensorFlow Probability requires TensorFlow version >= 2.14; Detected an installation of version 2.13.0. Please upgrade TensorFlow to proceed.",
          "output_type": "error",
          "traceback": [
            "\u001b[1;31m---------------------------------------------------------------------------\u001b[0m",
            "\u001b[1;31mImportError\u001b[0m                               Traceback (most recent call last)",
            "\u001b[1;32md:\\Learnings\\Tensorflow\\2_Tensorflow_fundamentals.ipynb Cell 41\u001b[0m line \u001b[0;36m2\n\u001b[0;32m      <a href='vscode-notebook-cell:/d%3A/Learnings/Tensorflow/2_Tensorflow_fundamentals.ipynb#X56sZmlsZQ%3D%3D?line=0'>1</a>\u001b[0m \u001b[39m# to find varinace and standard deviation we need to import tensorflow_probability. tensorflows has math and probability modules which are different\u001b[39;00m\n\u001b[1;32m----> <a href='vscode-notebook-cell:/d%3A/Learnings/Tensorflow/2_Tensorflow_fundamentals.ipynb#X56sZmlsZQ%3D%3D?line=1'>2</a>\u001b[0m \u001b[39mimport\u001b[39;00m \u001b[39mtensorflow_probability\u001b[39;00m \u001b[39mas\u001b[39;00m \u001b[39mtfp\u001b[39;00m\n\u001b[0;32m      <a href='vscode-notebook-cell:/d%3A/Learnings/Tensorflow/2_Tensorflow_fundamentals.ipynb#X56sZmlsZQ%3D%3D?line=2'>3</a>\u001b[0m tfp\u001b[39m.\u001b[39mstats\u001b[39m.\u001b[39mvariance(E)\n",
            "File \u001b[1;32mc:\\Users\\User\\AppData\\Local\\Programs\\Python\\Python311\\Lib\\site-packages\\tensorflow_probability\\__init__.py:23\u001b[0m\n\u001b[0;32m     20\u001b[0m \u001b[39mfrom\u001b[39;00m \u001b[39mtensorflow_probability\u001b[39;00m \u001b[39mimport\u001b[39;00m substrates\n\u001b[0;32m     21\u001b[0m \u001b[39m# from tensorflow_probability.google import staging  # DisableOnExport\u001b[39;00m\n\u001b[0;32m     22\u001b[0m \u001b[39m# from tensorflow_probability.google import tfp_google  # DisableOnExport\u001b[39;00m\n\u001b[1;32m---> 23\u001b[0m \u001b[39mfrom\u001b[39;00m \u001b[39mtensorflow_probability\u001b[39;00m\u001b[39m.\u001b[39;00m\u001b[39mpython\u001b[39;00m \u001b[39mimport\u001b[39;00m \u001b[39m*\u001b[39m  \u001b[39m# pylint: disable=wildcard-import\u001b[39;00m\n\u001b[0;32m     24\u001b[0m \u001b[39mfrom\u001b[39;00m \u001b[39mtensorflow_probability\u001b[39;00m\u001b[39m.\u001b[39;00m\u001b[39mpython\u001b[39;00m\u001b[39m.\u001b[39;00m\u001b[39mversion\u001b[39;00m \u001b[39mimport\u001b[39;00m __version__\n\u001b[0;32m     26\u001b[0m \u001b[39m# tfp_google.bind(globals())  # DisableOnExport\u001b[39;00m\n\u001b[0;32m     27\u001b[0m \u001b[39m# del tfp_google  # DisableOnExport\u001b[39;00m\n",
            "File \u001b[1;32mc:\\Users\\User\\AppData\\Local\\Programs\\Python\\Python311\\Lib\\site-packages\\tensorflow_probability\\python\\__init__.py:138\u001b[0m\n\u001b[0;32m    135\u001b[0m \u001b[39mif\u001b[39;00m _tf_loaded():\n\u001b[0;32m    136\u001b[0m   \u001b[39m# Non-lazy load of packages that register with tensorflow or keras.\u001b[39;00m\n\u001b[0;32m    137\u001b[0m   \u001b[39mfor\u001b[39;00m pkg_name \u001b[39min\u001b[39;00m _maybe_nonlazy_load:\n\u001b[1;32m--> 138\u001b[0m     \u001b[39mdir\u001b[39;49m(\u001b[39mglobals\u001b[39;49m()[pkg_name])  \u001b[39m# Forces loading the package from its lazy loader.\u001b[39;00m\n\u001b[0;32m    141\u001b[0m all_util\u001b[39m.\u001b[39mremove_undocumented(\u001b[39m__name__\u001b[39m, _lazy_load \u001b[39m+\u001b[39m _maybe_nonlazy_load)\n",
            "File \u001b[1;32mc:\\Users\\User\\AppData\\Local\\Programs\\Python\\Python311\\Lib\\site-packages\\tensorflow_probability\\python\\internal\\lazy_loader.py:57\u001b[0m, in \u001b[0;36mLazyLoader.__dir__\u001b[1;34m(self)\u001b[0m\n\u001b[0;32m     56\u001b[0m \u001b[39mdef\u001b[39;00m \u001b[39m__dir__\u001b[39m(\u001b[39mself\u001b[39m):\n\u001b[1;32m---> 57\u001b[0m   module \u001b[39m=\u001b[39m \u001b[39mself\u001b[39;49m\u001b[39m.\u001b[39;49m_load()\n\u001b[0;32m     58\u001b[0m   \u001b[39mreturn\u001b[39;00m \u001b[39mdir\u001b[39m(module)\n",
            "File \u001b[1;32mc:\\Users\\User\\AppData\\Local\\Programs\\Python\\Python311\\Lib\\site-packages\\tensorflow_probability\\python\\internal\\lazy_loader.py:37\u001b[0m, in \u001b[0;36mLazyLoader._load\u001b[1;34m(self)\u001b[0m\n\u001b[0;32m     35\u001b[0m \u001b[39m\u001b[39m\u001b[39m\"\"\"Load the module and insert it into the parent's globals.\"\"\"\u001b[39;00m\n\u001b[0;32m     36\u001b[0m \u001b[39mif\u001b[39;00m callable(\u001b[39mself\u001b[39m\u001b[39m.\u001b[39m_on_first_access):\n\u001b[1;32m---> 37\u001b[0m   \u001b[39mself\u001b[39;49m\u001b[39m.\u001b[39;49m_on_first_access()\n\u001b[0;32m     38\u001b[0m   \u001b[39mself\u001b[39m\u001b[39m.\u001b[39m_on_first_access \u001b[39m=\u001b[39m \u001b[39mNone\u001b[39;00m\n\u001b[0;32m     39\u001b[0m \u001b[39m# Import the target module and insert it into the parent's namespace\u001b[39;00m\n",
            "File \u001b[1;32mc:\\Users\\User\\AppData\\Local\\Programs\\Python\\Python311\\Lib\\site-packages\\tensorflow_probability\\python\\__init__.py:59\u001b[0m, in \u001b[0;36m_validate_tf_environment\u001b[1;34m(package)\u001b[0m\n\u001b[0;32m     55\u001b[0m \u001b[39m#   required_tensorflow_version = '1.15'  # Needed internally -- DisableOnExport\u001b[39;00m\n\u001b[0;32m     57\u001b[0m   \u001b[39mif\u001b[39;00m (distutils\u001b[39m.\u001b[39mversion\u001b[39m.\u001b[39mLooseVersion(tf\u001b[39m.\u001b[39m__version__) \u001b[39m<\u001b[39m\n\u001b[0;32m     58\u001b[0m       distutils\u001b[39m.\u001b[39mversion\u001b[39m.\u001b[39mLooseVersion(required_tensorflow_version)):\n\u001b[1;32m---> 59\u001b[0m     \u001b[39mraise\u001b[39;00m \u001b[39mImportError\u001b[39;00m(\n\u001b[0;32m     60\u001b[0m         \u001b[39m'\u001b[39m\u001b[39mThis version of TensorFlow Probability requires TensorFlow \u001b[39m\u001b[39m'\u001b[39m\n\u001b[0;32m     61\u001b[0m         \u001b[39m'\u001b[39m\u001b[39mversion >= \u001b[39m\u001b[39m{required}\u001b[39;00m\u001b[39m; Detected an installation of version \u001b[39m\u001b[39m{present}\u001b[39;00m\u001b[39m. \u001b[39m\u001b[39m'\u001b[39m\n\u001b[0;32m     62\u001b[0m         \u001b[39m'\u001b[39m\u001b[39mPlease upgrade TensorFlow to proceed.\u001b[39m\u001b[39m'\u001b[39m\u001b[39m.\u001b[39mformat(\n\u001b[0;32m     63\u001b[0m             required\u001b[39m=\u001b[39mrequired_tensorflow_version,\n\u001b[0;32m     64\u001b[0m             present\u001b[39m=\u001b[39mtf\u001b[39m.\u001b[39m__version__))\n\u001b[0;32m     66\u001b[0m   \u001b[39mif\u001b[39;00m (package \u001b[39m==\u001b[39m \u001b[39m'\u001b[39m\u001b[39mmcmc\u001b[39m\u001b[39m'\u001b[39m \u001b[39mand\u001b[39;00m\n\u001b[0;32m     67\u001b[0m       tf\u001b[39m.\u001b[39mconfig\u001b[39m.\u001b[39mexperimental\u001b[39m.\u001b[39mtensor_float_32_execution_enabled()):\n\u001b[0;32m     68\u001b[0m     \u001b[39m# Must import here, because symbols get pruned to __all__.\u001b[39;00m\n\u001b[0;32m     69\u001b[0m     \u001b[39mimport\u001b[39;00m \u001b[39mwarnings\u001b[39;00m\n",
            "\u001b[1;31mImportError\u001b[0m: This version of TensorFlow Probability requires TensorFlow version >= 2.14; Detected an installation of version 2.13.0. Please upgrade TensorFlow to proceed."
          ]
        }
      ],
      "source": [
        "# to find varinace and standard deviation we need to import tensorflow_probability. tensorflows has math and probability modules which are different\n",
        "import tensorflow_probability as tfp\n",
        "tfp.stats.variance(E)\n",
        "# look for documentation for more details"
      ]
    },
    {
      "cell_type": "code",
      "execution_count": 115,
      "metadata": {},
      "outputs": [
        {
          "data": {
            "text/plain": [
              "<tf.Tensor: shape=(), dtype=float32, numpy=3346.85>"
            ]
          },
          "execution_count": 115,
          "metadata": {},
          "output_type": "execute_result"
        }
      ],
      "source": [
        "tf.math.reduce_variance(tf.cast(E,dtype=tf.float32))"
      ]
    },
    {
      "cell_type": "code",
      "execution_count": 116,
      "metadata": {},
      "outputs": [
        {
          "data": {
            "text/plain": [
              "<tf.Tensor: shape=(), dtype=float32, numpy=57.851967>"
            ]
          },
          "execution_count": 116,
          "metadata": {},
          "output_type": "execute_result"
        }
      ],
      "source": [
        "tf.math.reduce_std(tf.cast(E,dtype=tf.float32))"
      ]
    },
    {
      "cell_type": "markdown",
      "metadata": {},
      "source": [
        "Finding positional maximum and minimum\n"
      ]
    },
    {
      "cell_type": "code",
      "execution_count": 117,
      "metadata": {},
      "outputs": [
        {
          "data": {
            "text/plain": [
              "<tf.Tensor: shape=(50,), dtype=float32, numpy=\n",
              "array([0.6645621 , 0.44100678, 0.3528825 , 0.46448255, 0.03366041,\n",
              "       0.68467236, 0.74011743, 0.8724445 , 0.22632635, 0.22319686,\n",
              "       0.3103881 , 0.7223358 , 0.13318717, 0.5480639 , 0.5746088 ,\n",
              "       0.8996835 , 0.00946367, 0.5212307 , 0.6345445 , 0.1993283 ,\n",
              "       0.72942245, 0.54583454, 0.10756552, 0.6767061 , 0.6602763 ,\n",
              "       0.33695042, 0.60141766, 0.21062577, 0.8527372 , 0.44062173,\n",
              "       0.9485276 , 0.23752594, 0.81179297, 0.5263394 , 0.494308  ,\n",
              "       0.21612847, 0.8457197 , 0.8718841 , 0.3083862 , 0.6868038 ,\n",
              "       0.23764038, 0.7817228 , 0.9671384 , 0.06870162, 0.79873943,\n",
              "       0.66028714, 0.5871513 , 0.16461694, 0.7381023 , 0.32054043],\n",
              "      dtype=float32)>"
            ]
          },
          "execution_count": 117,
          "metadata": {},
          "output_type": "execute_result"
        }
      ],
      "source": [
        "# creating a new tensor for finding positional maximum and minimum\n",
        "tf.random.set_seed(42)\n",
        "F = tf.random.uniform(shape=[50])\n",
        "F"
      ]
    },
    {
      "cell_type": "code",
      "execution_count": 119,
      "metadata": {},
      "outputs": [
        {
          "data": {
            "text/plain": [
              "<tf.Tensor: shape=(), dtype=int64, numpy=16>"
            ]
          },
          "execution_count": 119,
          "metadata": {},
          "output_type": "execute_result"
        }
      ],
      "source": [
        "# positional maximum\n",
        "tf.argmax(F)  # it gives the index at which the maximum value is present\n",
        "\n",
        "# position minimum\n",
        "tf.argmin(F)  # it gives the index at which the minimum value is present"
      ]
    },
    {
      "cell_type": "code",
      "execution_count": 122,
      "metadata": {},
      "outputs": [
        {
          "name": "stdout",
          "output_type": "stream",
          "text": [
            "tf.Tensor(0.9671384, shape=(), dtype=float32)\n",
            "tf.Tensor(0.9671384, shape=(), dtype=float32)\n",
            "tf.Tensor(0.009463668, shape=(), dtype=float32)\n",
            "tf.Tensor(0.009463668, shape=(), dtype=float32)\n"
          ]
        }
      ],
      "source": [
        "print(F[tf.argmax(F)])\n",
        "print(tf.reduce_max(F))\n",
        "print(F[tf.argmin(F)])\n",
        "print(tf.reduce_min(F))"
      ]
    },
    {
      "cell_type": "markdown",
      "metadata": {},
      "source": [
        "Squeezing a tensor . Removing all single dinmensions "
      ]
    },
    {
      "cell_type": "code",
      "execution_count": 126,
      "metadata": {},
      "outputs": [],
      "source": [
        "G = tf.constant(tf.random.uniform(shape=[50]),shape=(1,1,1,1,50))"
      ]
    },
    {
      "cell_type": "code",
      "execution_count": 127,
      "metadata": {},
      "outputs": [
        {
          "data": {
            "text/plain": [
              "<tf.Tensor: shape=(1, 1, 1, 1, 50), dtype=float32, numpy=\n",
              "array([[[[[0.68789124, 0.48447883, 0.9309944 , 0.252187  , 0.73115396,\n",
              "           0.89256823, 0.94674826, 0.7493341 , 0.34925628, 0.54718256,\n",
              "           0.26160395, 0.69734323, 0.11962581, 0.53484344, 0.7148968 ,\n",
              "           0.87501776, 0.33967495, 0.17377627, 0.4418521 , 0.9008261 ,\n",
              "           0.13803864, 0.12217975, 0.5754491 , 0.9417181 , 0.9186585 ,\n",
              "           0.59708476, 0.6109482 , 0.82086265, 0.83269787, 0.8915849 ,\n",
              "           0.01377225, 0.49807465, 0.57503664, 0.6856195 , 0.75972784,\n",
              "           0.908944  , 0.40900218, 0.8765154 , 0.53890026, 0.42733097,\n",
              "           0.401173  , 0.66623247, 0.16348064, 0.18220246, 0.97040176,\n",
              "           0.06139731, 0.53034747, 0.9869994 , 0.4746945 , 0.8646754 ]]]]],\n",
              "      dtype=float32)>"
            ]
          },
          "execution_count": 127,
          "metadata": {},
          "output_type": "execute_result"
        }
      ],
      "source": [
        "G"
      ]
    },
    {
      "cell_type": "code",
      "execution_count": 128,
      "metadata": {},
      "outputs": [
        {
          "data": {
            "text/plain": [
              "(TensorShape([50]), TensorShape([1, 1, 1, 1, 50]))"
            ]
          },
          "execution_count": 128,
          "metadata": {},
          "output_type": "execute_result"
        }
      ],
      "source": [
        "# removes dimesnion of size 1 from the tensor \n",
        "G_squeezed = tf.squeeze(G)\n",
        "G_squeezed.shape , G.shape"
      ]
    },
    {
      "cell_type": "markdown",
      "metadata": {},
      "source": [
        "### ONE HOT ENCODING TENSORS "
      ]
    },
    {
      "cell_type": "code",
      "execution_count": 137,
      "metadata": {},
      "outputs": [
        {
          "data": {
            "text/plain": [
              "<tf.Tensor: shape=(4, 4), dtype=float32, numpy=\n",
              "array([[1., 0., 0., 0.],\n",
              "       [0., 1., 0., 0.],\n",
              "       [0., 0., 1., 0.],\n",
              "       [0., 0., 0., 1.]], dtype=float32)>"
            ]
          },
          "execution_count": 137,
          "metadata": {},
          "output_type": "execute_result"
        }
      ],
      "source": [
        "set_list = [0,1,2,3]\n",
        "tf.one_hot(set_list,depth=4)"
      ]
    },
    {
      "cell_type": "code",
      "execution_count": 139,
      "metadata": {},
      "outputs": [
        {
          "data": {
            "text/plain": [
              "<tf.Tensor: shape=(4, 4), dtype=string, numpy=\n",
              "array([[b'X', b'0', b'0', b'0'],\n",
              "       [b'0', b'X', b'0', b'0'],\n",
              "       [b'0', b'0', b'X', b'0'],\n",
              "       [b'0', b'0', b'0', b'X']], dtype=object)>"
            ]
          },
          "execution_count": 139,
          "metadata": {},
          "output_type": "execute_result"
        }
      ],
      "source": [
        "# specifying custom values for one hot encoding \n",
        "tf.one_hot(set_list,depth=4,on_value='X',off_value='0')"
      ]
    },
    {
      "cell_type": "markdown",
      "metadata": {},
      "source": [
        "### TENSORS CAN ALSO BE CREATED USING NUMPY \n",
        "\n",
        "AND THEY CAN ALSO BE CONVERTED INTO EACH OTHER EASILY "
      ]
    },
    {
      "cell_type": "code",
      "execution_count": 140,
      "metadata": {},
      "outputs": [
        {
          "data": {
            "text/plain": [
              "<function tensorflow.python.framework.config.list_logical_devices(device_type=None)>"
            ]
          },
          "execution_count": 140,
          "metadata": {},
          "output_type": "execute_result"
        }
      ],
      "source": [
        "tf.config.list_logical_devices"
      ]
    },
    {
      "cell_type": "markdown",
      "metadata": {},
      "source": [
        "### COMMANDS TO CHECK DEVICE USAGE AND GPU USAGE \n",
        "1. `tf.config.lits_physical_devices` :-  is used to list all the physical devices of the system that are avialable \n",
        "2. `!nvidia-smi` :-  is used to get GPU infirmation. can be used only GPU drivers are installed"
      ]
    },
    {
      "cell_type": "markdown",
      "metadata": {},
      "source": []
    }
  ],
  "metadata": {
    "colab": {
      "provenance": []
    },
    "kernelspec": {
      "display_name": "Python 3",
      "name": "python3"
    },
    "language_info": {
      "codemirror_mode": {
        "name": "ipython",
        "version": 3
      },
      "file_extension": ".py",
      "mimetype": "text/x-python",
      "name": "python",
      "nbconvert_exporter": "python",
      "pygments_lexer": "ipython3",
      "version": "3.11.2"
    }
  },
  "nbformat": 4,
  "nbformat_minor": 0
}
